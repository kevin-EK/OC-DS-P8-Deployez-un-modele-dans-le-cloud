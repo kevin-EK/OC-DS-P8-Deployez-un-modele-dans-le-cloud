{
 "cells": [
  {
   "cell_type": "markdown",
   "id": "441159cc",
   "metadata": {},
   "source": [
    "# Déployez un modèle dans le cloud\n",
    "\n",
    "\n",
    "# Sommaire :\n",
    "\n",
    "**1. Préambule**<br />\n",
    "&emsp;1.1 Problématique<br />\n",
    "&emsp;1.2 Objectifs dans ce projet<br />\n",
    "&emsp;1.3 Déroulement des étapes du projet<br />\n",
    "**2. Choix techniques généraux retenus**<br />\n",
    "&emsp;2.1 Calcul distribué<br />\n",
    "&emsp;2.2 Transfert Learning<br />\n",
    "**3. Déploiement de la solution en local**<br />\n",
    "&emsp;3.1 Environnement de travail<br />\n",
    "&emsp;3.2 Installation de Spark<br />\n",
    "&emsp;3.3 Installation des packages<br />\n",
    "&emsp;3.4 Import des librairies<br />\n",
    "&emsp;3.5 Définition des PATH pour charger les images et enregistrer les résultats<br />\n",
    "&emsp;3.6 Création de la SparkSession<br />\n",
    "&emsp;3.7 Traitement des données<br />\n",
    "&emsp;&emsp;3.7.1 Chargement des données<br />\n",
    "&emsp;&emsp;3.7.2 Préparation du modèle<br />\n",
    "&emsp;&emsp;3.7.3 Définition du processus de chargement des images et application <br />\n",
    "&emsp;&emsp;&emsp;&emsp;&emsp;de leur featurisation à travers l'utilisation de pandas UDF<br />\n",
    "&emsp;&emsp;3.7.4 Exécution des actions d'extractions de features<br />\n",
    "&emsp;3.8 Chargement des données enregistrées et validation du résultat<br />\n",
    "**4. Déploiement de la solution sur le cloud**<br />\n",
    "&emsp;4.1 Choix du prestataire cloud : AWS<br />\n",
    "&emsp;4.2 Choix de la solution technique : EMR<br />\n",
    "&emsp;4.3 Choix de la solution de stockage des données : Amazon S3<br />\n",
    "&emsp;4.4 Configuration de l'environnement de travail<br />\n",
    "&emsp;4.5 Upload de nos données sur S3<br />\n",
    "&emsp;4.6 Configuration du serveur EMR<br />\n",
    "&emsp;&emsp;4.6.1 Étape 1 : Logiciels et étapes<br />\n",
    "&emsp;&emsp;&emsp;4.6.1.1 Configuration des logiciels<br />\n",
    "&emsp;&emsp;&emsp;4.6.1.2 Modifier les paramètres du logiciel<br />\n",
    "&emsp;&emsp;4.6.2 Étape 2 : Matériel<br />\n",
    "&emsp;&emsp;4.6.3 Étape 3 : Paramètres de cluster généraux<br />\n",
    "&emsp;&emsp;&emsp;4.6.3.1 Options générales<br />\n",
    "&emsp;&emsp;&emsp;4.6.3.2 Actions d'amorçage<br />\n",
    "&emsp;&emsp;4.6.4 Étape 4 : Sécurité<br />\n",
    "&emsp;&emsp;&emsp;4.6.4.1 Options de sécurité<br />\n",
    "&emsp;4.7 Instanciation du serveur<br />\n",
    "&emsp;4.8 Création du tunnel SSH à l'instance EC2 (Maître)<br />\n",
    "&emsp;&emsp;4.8.1 Création des autorisations sur les connexions entrantes<br />\n",
    "&emsp;&emsp;4.8.2 Création du tunnel ssh vers le Driver<br />\n",
    "&emsp;&emsp;4.8.3 Configuration de FoxyProxy<br />\n",
    "&emsp;&emsp;4.8.4 Accès aux applications du serveur EMR via le tunnel ssh<br />\n",
    "&emsp;4.9 Connexion au notebook JupyterHub<br />\n",
    "&emsp;4.10 Exécution du code<br />\n",
    "&emsp;&emsp;4.10.1 Démarrage de la session Spark<br />\n",
    "&emsp;&emsp;4.10.2 Installation des packages<br />\n",
    "&emsp;&emsp;4.10.3 Import des librairies<br />\n",
    "&emsp;&emsp;4.10.4 Définition des PATH pour charger les images et enregistrer les résultats<br />\n",
    "&emsp;&emsp;4.10.5 Traitement des données<br />\n",
    "&emsp;&emsp;&emsp;4.10.5.1 Chargement des données<br />\n",
    "&emsp;&emsp;&emsp;4.10.5.2 Préparation du modèle<br />\n",
    "&emsp;&emsp;&emsp;4.10.5.3 Définition du processus de chargement des images<br />\n",
    "&emsp;&emsp;&emsp;&emsp;&emsp;&emsp;&emsp;et application de leur featurisation à travers l'utilisation de pandas UDF<br />\n",
    "&emsp;&emsp;&emsp;4.10.5.4 Exécutions des actions d'extractions de features<br />\n",
    "&emsp;&emsp;4.10.6 Chargement des données enregistrées et validation du résultat<br />\n",
    "&emsp;4.11 Suivi de l'avancement des tâches avec le Serveur d'Historique Spark<br />\n",
    "&emsp;4.12 Résiliation de l'instance EMR<br />\n",
    "&emsp;4.13 Cloner le serveur EMR (si besoin)<br />\n",
    "&emsp;4.14 Arborescence du serveur S3 à la fin du projet<br />\n",
    "**5. Conclusion**"
   ]
  },
  {
   "cell_type": "markdown",
   "id": "ec2cee08",
   "metadata": {},
   "source": [
    "# 1. Préambule\n",
    "\n",
    "## 1.1 Problématique\n",
    "\n",
    "La très jeune start-up de l'AgriTech, nommée \"**Fruits**!\", <br />\n",
    "cherche à proposer des solutions innovantes pour la récolte des fruits.\n",
    "\n",
    "La volonté de l’entreprise est de préserver la biodiversité des fruits <br />\n",
    "en permettant des traitements spécifiques pour chaque espèce de fruits <br />\n",
    "en développant des robots cueilleurs intelligents.\n",
    "\n",
    "La start-up souhaite dans un premier temps se faire connaître en mettant <br />\n",
    "à disposition du grand public une application mobile qui permettrait aux <br />\n",
    "utilisateurs de prendre en photo un fruit et d'obtenir des informations sur ce fruit.\n",
    "\n",
    "Pour la start-up, cette application permettrait de sensibiliser le grand public <br /> \n",
    "à la biodiversité des fruits et de mettre en place une première version du moteur <br />\n",
    "de classification des images de fruits.\n",
    "\n",
    "De plus, le développement de l’application mobile permettra de construire <br />\n",
    "une première version de l'architecture **Big Data** nécessaire.\n",
    "\n",
    "## 1.2 Objectifs dans ce projet\n",
    "\n",
    "1. Développer une première chaîne de traitement des données qui <br />\n",
    "   comprendra le **preprocessing** et une étape de **réduction de dimension**.\n",
    "2. Tenir compte du fait que <u>le volume de données va augmenter <br />\n",
    "   très rapidement</u> après la livraison de ce projet, ce qui implique de:\n",
    " - Déployer le traitement des données dans un environnement **Big Data**\n",
    " - Développer les scripts en **pyspark** pour effectuer du **calcul distribué**"
   ]
  },
  {
   "cell_type": "markdown",
   "id": "6b95e6ce",
   "metadata": {},
   "source": [
    "## 1.3 Déroulement des étapes du projet\n",
    "\n",
    "Le projet va être réalisé en 2 temps, dans deux environnements différents. <br />\n",
    "Nous allons dans un premier temps développer et exécuter notre code en local, <br />\n",
    "en travaillant sur un nombre limité d'images à traiter.\n",
    "\n",
    "Une fois les choix techniques validés, nous déploierons notre solution <br />\n",
    "dans un environnement Big Data en mode distribué.\n",
    "\n",
    "<u>Pour cette raison, ce projet sera divisé en 3 parties</u>:\n",
    "1. Liste des choix techniques généraux retenus\n",
    "2. Déploiement de la solution en local\n",
    "3. Déploiement de la solution dans le cloud"
   ]
  },
  {
   "cell_type": "markdown",
   "id": "f5b34029",
   "metadata": {},
   "source": [
    "# 2. Choix techniques généraux retenus"
   ]
  },
  {
   "cell_type": "markdown",
   "id": "32baf092",
   "metadata": {},
   "source": [
    "## 2.1 Calcul distribué\n",
    "\n",
    "L’énoncé du projet nous impose de développer des scripts en **pyspark** <br />\n",
    "afin de <u>prendre en compte l’augmentation très rapide du volume <br />\n",
    "de donné après la livraison du projet</u>.\n",
    "\n",
    "Pour comprendre rapidement et simplement ce qu’est **pyspark** <br />\n",
    "et son principe de fonctionnement, nous vous conseillons de lire <br />\n",
    "cet article : [PySpark : Tout savoir sur la librairie Python](https://datascientest.com/pyspark)\n",
    "\n",
    "<u>Le début de l’article nous dit ceci </u>:<br />\n",
    "« *Lorsque l’on parle de traitement de bases de données sur python, <br />\n",
    "on pense immédiatement à la librairie pandas. Cependant, lorsqu’on a <br />\n",
    "affaire à des bases de données trop massives, les calculs deviennent trop lents.<br />\n",
    "Heureusement, il existe une autre librairie python, assez proche <br />\n",
    "de pandas, qui permet de traiter des très grandes quantités de données : PySpark.<br />\n",
    "Apache Spark est un framework open-source développé par l’AMPLab <br />\n",
    "de UC Berkeley permettant de traiter des bases de données massives <br />\n",
    "en utilisant le calcul distribué, technique qui consiste à exploiter <br />\n",
    "plusieurs unités de calcul réparties en clusters au profit d’un seul <br />\n",
    "projet afin de diviser le temps d’exécution d’une requête.<br />\n",
    "Spark a été développé en Scala et est au meilleur de ses capacités <br />\n",
    "dans son langage natif. Cependant, la librairie PySpark propose de <br />\n",
    "l’utiliser avec le langage Python, en gardant des performances <br />\n",
    "similaires à des implémentations en Scala.<br />\n",
    "Pyspark est donc une bonne alternative à la librairie pandas lorsqu’on <br />\n",
    "cherche à traiter des jeux de données trop volumineux qui entraînent <br />\n",
    "des calculs trop chronophages.* »\n",
    "\n",
    "Comme nous le constatons, **pySpark** est un moyen de communiquer <br />\n",
    "avec **Spark** via le langage **Python**.<br />\n",
    "**Spark**, quant à lui, est un outil qui permet de gérer et de coordonner <br />\n",
    "l'exécution de tâches sur des données à travers un groupe d'ordinateurs. <br />\n",
    "<u>Spark (ou Apache Spark) est un framework open source de calcul distribué <br />\n",
    "in-memory pour le traitement et l'analyse de données massives</u>.\n",
    "\n",
    "Un autre [article très intéressant et beaucoup plus complet pour <br />\n",
    "comprendre le **fonctionnement de Spark**](https://www.veonum.com/apache-spark-pour-les-nuls/), ainsi que le rôle <br />\n",
    "des **Spark Session** que nous utiliserons dans ce projet.\n",
    "\n",
    "<u>Voici également un extrait</u>:\n",
    "\n",
    "*Les applications Spark se composent d’un pilote (« driver process ») <br />\n",
    "et de plusieurs exécuteurs (« executor processes »). Il peut être configuré <br />\n",
    "pour être lui-même l’exécuteur (local mode) ou en utiliser autant que <br />\n",
    "nécessaire pour traiter l’application, Spark prenant en charge la mise <br />\n",
    "à l’échelle automatique par une configuration d’un nombre minimum <br />\n",
    "et maximum d’exécuteurs.*\n",
    "\n",
    "![Schéma de Spark](img/spark-schema.png)\n",
    "\n",
    "*Le driver (parfois appelé « Spark Session ») distribue et planifie <br />\n",
    "les tâches entre les différents exécuteurs qui les exécutent et permettent <br />\n",
    "un traitement réparti. Il est le responsable de l’exécution du code <br />\n",
    "sur les différentes machines.\n",
    "\n",
    "Chaque exécuteur est un processus Java Virtual Machine (JVM) distinct <br />\n",
    "dont il est possible de configurer le nombre de CPU et la quantité de <br />\n",
    "mémoire qui lui est alloué. <br />\n",
    "Une seule tâche peut traiter un fractionnement de données à la fois.*\n",
    "\n",
    "Dans les deux environnements (Local et Cloud) nous utiliserons donc **Spark** <br />\n",
    "et nous l’exploiterons à travers des scripts python grâce à **PySpark**.\n",
    "\n",
    "Dans la <u>version locale</u> de notre script nous **simulerons <br />\n",
    "le calcul distribué** afin de valider que notre solution fonctionne.<br />\n",
    "Dans la <u>version cloud</u> nous **réaliserons les opérations sur un cluster de machine**."
   ]
  },
  {
   "cell_type": "markdown",
   "id": "5364c9f9",
   "metadata": {},
   "source": [
    "## 2.2 Transfert Learning\n",
    "\n",
    "L'énoncé du projet nous demande également de <br />\n",
    "réaliser une première chaîne de traitement <br />\n",
    "des données qui comprendra le preprocessing et <br />\n",
    "une étape de réduction de dimension.\n",
    "\n",
    "Il est également précisé qu'il n'est pas nécessaire <br />\n",
    "d'entraîner un modèle pour le moment.\n",
    "\n",
    "Nous décidons de partir sur une solution de **transfert learning**.\n",
    "\n",
    "Simplement, le **transfert learning** consiste <br />\n",
    "à utiliser la connaissance déjà acquise <br />\n",
    "par un modèle entraîné (ici **MobileNetV2**) pour <br />\n",
    "l'adapter à notre problématique.\n",
    "\n",
    "Nous allons fournir au modèle nos images, et nous allons <br />\n",
    "<u>récupérer l'avant dernière couche</u> du modèle.<br />\n",
    "En effet la dernière couche de modèle est une couche softmax <br />\n",
    "qui permet la classification des images ce que nous ne <br />\n",
    "souhaitons pas dans ce projet.\n",
    "\n",
    "L'avant dernière couche correspond à un **vecteur <br />\n",
    "réduit** de dimension (1,1,1280).\n",
    "\n",
    "Cela permettra de réaliser une première version du moteur <br />\n",
    "pour la classification des images des fruits.\n",
    "\n",
    "**MobileNetV2** a été retenu pour sa <u>rapidité d'exécution</u>, <br />\n",
    "particulièrement adaptée pour le traitement d'un gros volume <br />\n",
    "de données ainsi que la <u>faible dimensionnalité du vecteur <br />\n",
    "de caractéristique en sortie</u> (1,1,1280)"
   ]
  },
  {
   "cell_type": "markdown",
   "id": "4e759c1e",
   "metadata": {},
   "source": [
    "### 4.10.1 Démarrage de la session Spark"
   ]
  },
  {
   "cell_type": "code",
   "execution_count": 1,
   "id": "e5f0fbe1",
   "metadata": {},
   "outputs": [
    {
     "name": "stdout",
     "output_type": "stream",
     "text": [
      "Starting Spark application\n"
     ]
    },
    {
     "data": {
      "text/html": [
       "<table>\n",
       "<tr><th>ID</th><th>YARN Application ID</th><th>Kind</th><th>State</th><th>Spark UI</th><th>Driver log</th><th>User</th><th>Current session?</th></tr><tr><td>1</td><td>application_1697887572418_0002</td><td>pyspark</td><td>idle</td><td><a target=\"_blank\" href=\"http://ip-172-31-26-100.eu-west-3.compute.internal:20888/proxy/application_1697887572418_0002/\">Link</a></td><td><a target=\"_blank\" href=\"http://ip-172-31-18-131.eu-west-3.compute.internal:8042/node/containerlogs/container_1697887572418_0002_01_000002/livy\">Link</a></td><td>None</td><td>✔</td></tr></table>"
      ],
      "text/plain": [
       "<IPython.core.display.HTML object>"
      ]
     },
     "metadata": {},
     "output_type": "display_data"
    },
    {
     "data": {
      "application/vnd.jupyter.widget-view+json": {
       "model_id": "",
       "version_major": 2,
       "version_minor": 0
      },
      "text/plain": [
       "FloatProgress(value=0.0, bar_style='info', description='Progress:', layout=Layout(height='25px', width='50%'),…"
      ]
     },
     "metadata": {},
     "output_type": "display_data"
    },
    {
     "name": "stdout",
     "output_type": "stream",
     "text": [
      "SparkSession available as 'spark'.\n"
     ]
    },
    {
     "data": {
      "application/vnd.jupyter.widget-view+json": {
       "model_id": "",
       "version_major": 2,
       "version_minor": 0
      },
      "text/plain": [
       "FloatProgress(value=0.0, bar_style='info', description='Progress:', layout=Layout(height='25px', width='50%'),…"
      ]
     },
     "metadata": {},
     "output_type": "display_data"
    }
   ],
   "source": [
    "# L'exécution de cette cellule démarre l'application Spark"
   ]
  },
  {
   "cell_type": "markdown",
   "id": "3aba202f",
   "metadata": {},
   "source": [
    "<u>Affichage des informations sur la session en cours et liens vers Spark UI</u> :"
   ]
  },
  {
   "cell_type": "code",
   "execution_count": 2,
   "id": "fb788991",
   "metadata": {},
   "outputs": [
    {
     "data": {
      "text/html": [
       "Current session configs: <tt>{'driverMemory': '1000M', 'executorCores': 2, 'proxyUser': 'jovyan', 'kind': 'pyspark'}</tt><br>"
      ],
      "text/plain": [
       "<IPython.core.display.HTML object>"
      ]
     },
     "metadata": {},
     "output_type": "display_data"
    },
    {
     "data": {
      "text/html": [
       "<table>\n",
       "<tr><th>ID</th><th>YARN Application ID</th><th>Kind</th><th>State</th><th>Spark UI</th><th>Driver log</th><th>User</th><th>Current session?</th></tr><tr><td>0</td><td>application_1697887572418_0001</td><td>pyspark</td><td>idle</td><td><a target=\"_blank\" href=\"http://ip-172-31-26-100.eu-west-3.compute.internal:20888/proxy/application_1697887572418_0001/\">Link</a></td><td><a target=\"_blank\" href=\"http://ip-172-31-18-131.eu-west-3.compute.internal:8042/node/containerlogs/container_1697887572418_0001_01_000001/livy\">Link</a></td><td>None</td><td></td></tr><tr><td>1</td><td>application_1697887572418_0002</td><td>pyspark</td><td>idle</td><td><a target=\"_blank\" href=\"http://ip-172-31-26-100.eu-west-3.compute.internal:20888/proxy/application_1697887572418_0002/\">Link</a></td><td><a target=\"_blank\" href=\"http://ip-172-31-18-131.eu-west-3.compute.internal:8042/node/containerlogs/container_1697887572418_0002_01_000002/livy\">Link</a></td><td>None</td><td>✔</td></tr></table>"
      ],
      "text/plain": [
       "<IPython.core.display.HTML object>"
      ]
     },
     "metadata": {},
     "output_type": "display_data"
    }
   ],
   "source": [
    "%%info"
   ]
  },
  {
   "cell_type": "markdown",
   "id": "27ac9832",
   "metadata": {},
   "source": [
    "### 4.10.2 Installation des packages\n",
    "\n",
    "Les packages nécessaires ont été installé via l'étape de **bootstrap** à l'instanciation du serveur.\n",
    "\n",
    "### 4.10.3 Import des librairies"
   ]
  },
  {
   "cell_type": "code",
   "execution_count": 39,
   "id": "ad562eab",
   "metadata": {},
   "outputs": [
    {
     "data": {
      "application/vnd.jupyter.widget-view+json": {
       "model_id": "",
       "version_major": 2,
       "version_minor": 0
      },
      "text/plain": [
       "FloatProgress(value=0.0, bar_style='info', description='Progress:', layout=Layout(height='25px', width='50%'),…"
      ]
     },
     "metadata": {},
     "output_type": "display_data"
    }
   ],
   "source": [
    "import pandas as pd\n",
    "import numpy as np\n",
    "import io\n",
    "import os\n",
    "import tensorflow as tf\n",
    "from PIL import Image\n",
    "from tensorflow.keras.applications.mobilenet_v2 import MobileNetV2, preprocess_input\n",
    "from tensorflow.keras.preprocessing.image import img_to_array\n",
    "from tensorflow.keras import Model\n",
    "from pyspark.sql.functions import col, pandas_udf, PandasUDFType, element_at, split, udf"
   ]
  },
  {
   "cell_type": "code",
   "execution_count": 4,
   "id": "d4c511d2",
   "metadata": {},
   "outputs": [
    {
     "data": {
      "application/vnd.jupyter.widget-view+json": {
       "model_id": "",
       "version_major": 2,
       "version_minor": 0
      },
      "text/plain": [
       "FloatProgress(value=0.0, bar_style='info', description='Progress:', layout=Layout(height='25px', width='50%'),…"
      ]
     },
     "metadata": {},
     "output_type": "display_data"
    },
    {
     "name": "stdout",
     "output_type": "stream",
     "text": [
      "zipp 3.4.0\n",
      "wrapt 1.15.0\n",
      "wheel 0.35.1\n",
      "urllib3 1.26.15\n",
      "typing-extensions 4.7.1\n",
      "tqdm 4.66.1\n",
      "tensorflow 2.11.0\n",
      "tensorflow-io-gcs-filesystem 0.34.0\n",
      "tensorflow-estimator 2.11.0\n",
      "tensorboard 2.11.0\n",
      "tensorboard-plugin-wit 1.8.0\n",
      "rsa 4.6\n",
      "requests 2.31.0\n",
      "requests-oauthlib 1.3.0\n",
      "regex 2021.11.10\n",
      "PyYAML 5.4.1\n",
      "pyasn1 0.4.8\n",
      "pyasn1-modules 0.2.8\n",
      "pyarrow 12.0.0\n",
      "protobuf 3.20.1\n",
      "Pillow 9.5.0\n",
      "pandas 1.3.5\n",
      "packaging 23.1\n",
      "oauthlib 3.1.0\n",
      "numpy 1.20.0\n",
      "mysqlclient 1.4.2\n",
      "matplotlib 3.5.3\n",
      "MarkupSafe 2.1.3\n",
      "lxml 4.9.3\n",
      "kiwisolver 1.4.5\n",
      "Keras-Preprocessing 1.1.2\n",
      "joblib 1.3.2\n",
      "importlib-metadata 2.0.0\n",
      "idna 2.10\n",
      "h5py 3.8.0\n",
      "grpcio 1.59.0\n",
      "google-pasta 0.2.0\n",
      "google-auth 1.23.0\n",
      "google-auth-oauthlib 0.4.2\n",
      "flatbuffers 23.5.26\n",
      "cryptography 3.2.1\n",
      "click 8.1.7\n",
      "charset-normalizer 3.3.0\n",
      "chardet 5.2.0\n",
      "certifi 2023.7.22\n",
      "cachetools 4.1.1\n",
      "astunparse 1.6.3\n",
      "windmill 1.6\n",
      "Werkzeug 2.2.3\n",
      "webencodings 0.5.1\n",
      "termcolor 2.3.0\n",
      "tensorboard-data-server 0.6.1\n",
      "six 1.13.0\n",
      "setuptools 68.0.0\n",
      "s3transfer 0.7.0\n",
      "s3fs 0.4.2\n",
      "pytz 2023.3.post1\n",
      "python-dateutil 2.8.2\n",
      "pyparsing 3.1.1\n",
      "py-dateutil 2.2\n",
      "pip 23.3.1\n",
      "opt-einsum 3.3.0\n",
      "nose 1.3.4\n",
      "nltk 3.8.1\n",
      "Markdown 3.4.4\n",
      "libclang 16.0.6\n",
      "keras 2.11.0\n",
      "Keras-Applications 1.0.8\n",
      "jmespath 1.0.1\n",
      "html5lib 1.1\n",
      "gast 0.5.3\n",
      "funcsigs 1.0.2\n",
      "fsspec 2023.1.0\n",
      "fonttools 4.38.0\n",
      "cycler 0.11.0\n",
      "botocore 1.31.68\n",
      "boto3 1.28.68\n",
      "boto 2.49.0\n",
      "bleach 3.3.1\n",
      "beautifulsoup4 4.9.3\n",
      "astor file-astor-VERSION\n",
      "absl-py 2.0.0\n",
      "simplejson 3.2.0\n",
      "python37-sagemaker-pyspark 1.4.2\n",
      "python-daemon 2.2.3\n",
      "pystache 0.5.4\n",
      "lockfile 0.11.0\n",
      "docutils 0.14\n",
      "aws-cfn-bootstrap 2.0"
     ]
    }
   ],
   "source": [
    "import pkg_resources\n",
    "\n",
    "# Liste des packages installés\n",
    "installed_packages = pkg_resources.working_set\n",
    "\n",
    "# Affichez le nom de chaque package\n",
    "for package in installed_packages:\n",
    "    print(package)"
   ]
  },
  {
   "cell_type": "markdown",
   "id": "83663cbd",
   "metadata": {},
   "source": [
    "### 4.10.4 Définition des PATH pour charger les images et enregistrer les résultats\n",
    "\n",
    "Nous accédons directement à nos **données sur S3** comme si elles étaient **stockées localement**."
   ]
  },
  {
   "cell_type": "code",
   "execution_count": 5,
   "id": "46be859d",
   "metadata": {},
   "outputs": [
    {
     "data": {
      "application/vnd.jupyter.widget-view+json": {
       "model_id": "",
       "version_major": 2,
       "version_minor": 0
      },
      "text/plain": [
       "FloatProgress(value=0.0, bar_style='info', description='Progress:', layout=Layout(height='25px', width='50%'),…"
      ]
     },
     "metadata": {},
     "output_type": "display_data"
    },
    {
     "name": "stdout",
     "output_type": "stream",
     "text": [
      "PATH:        s3://kevinel-bucketaws-ocds-p8\n",
      "PATH_Data:   s3://kevinel-bucketaws-ocds-p8/Test\n",
      "PATH_Result: s3://kevinel-bucketaws-ocds-p8/Results"
     ]
    }
   ],
   "source": [
    "PATH = 's3://kevinel-bucketaws-ocds-p8'\n",
    "PATH_Data = PATH+'/Test'\n",
    "PATH_Result = PATH+'/Results'\n",
    "print('PATH:        '+\\\n",
    "      PATH+'\\nPATH_Data:   '+\\\n",
    "      PATH_Data+'\\nPATH_Result: '+PATH_Result)"
   ]
  },
  {
   "cell_type": "markdown",
   "id": "cf883c20",
   "metadata": {},
   "source": [
    "### 4.10.5 Traitement des données"
   ]
  },
  {
   "cell_type": "markdown",
   "id": "2ffe93f5",
   "metadata": {},
   "source": [
    "#### 4.10.5.1 Chargement des données"
   ]
  },
  {
   "cell_type": "code",
   "execution_count": 6,
   "id": "7e4b319a",
   "metadata": {},
   "outputs": [
    {
     "data": {
      "application/vnd.jupyter.widget-view+json": {
       "model_id": "",
       "version_major": 2,
       "version_minor": 0
      },
      "text/plain": [
       "FloatProgress(value=0.0, bar_style='info', description='Progress:', layout=Layout(height='25px', width='50%'),…"
      ]
     },
     "metadata": {},
     "output_type": "display_data"
    }
   ],
   "source": [
    "images = spark.read.format(\"binaryFile\") \\\n",
    "  .option(\"pathGlobFilter\", \"*.jpg\") \\\n",
    "  .option(\"recursiveFileLookup\", \"true\") \\\n",
    "  .load(PATH_Data)"
   ]
  },
  {
   "cell_type": "code",
   "execution_count": 7,
   "id": "16bfeb4d",
   "metadata": {},
   "outputs": [
    {
     "data": {
      "application/vnd.jupyter.widget-view+json": {
       "model_id": "",
       "version_major": 2,
       "version_minor": 0
      },
      "text/plain": [
       "FloatProgress(value=0.0, bar_style='info', description='Progress:', layout=Layout(height='25px', width='50%'),…"
      ]
     },
     "metadata": {},
     "output_type": "display_data"
    },
    {
     "name": "stdout",
     "output_type": "stream",
     "text": [
      "+--------------------+-------------------+------+--------------------+\n",
      "|                path|   modificationTime|length|             content|\n",
      "+--------------------+-------------------+------+--------------------+\n",
      "|s3://kevinel-buck...|2023-10-12 12:10:34|  7353|[FF D8 FF E0 00 1...|\n",
      "|s3://kevinel-buck...|2023-10-12 12:10:34|  7350|[FF D8 FF E0 00 1...|\n",
      "|s3://kevinel-buck...|2023-10-12 12:10:34|  7349|[FF D8 FF E0 00 1...|\n",
      "|s3://kevinel-buck...|2023-10-12 12:10:34|  7348|[FF D8 FF E0 00 1...|\n",
      "|s3://kevinel-buck...|2023-10-12 12:10:34|  7328|[FF D8 FF E0 00 1...|\n",
      "+--------------------+-------------------+------+--------------------+\n",
      "only showing top 5 rows"
     ]
    }
   ],
   "source": [
    "images.show(5)"
   ]
  },
  {
   "cell_type": "code",
   "execution_count": 10,
   "id": "3a38302f",
   "metadata": {},
   "outputs": [
    {
     "data": {
      "application/vnd.jupyter.widget-view+json": {
       "model_id": "",
       "version_major": 2,
       "version_minor": 0
      },
      "text/plain": [
       "FloatProgress(value=0.0, bar_style='info', description='Progress:', layout=Layout(height='25px', width='50%'),…"
      ]
     },
     "metadata": {},
     "output_type": "display_data"
    },
    {
     "name": "stdout",
     "output_type": "stream",
     "text": [
      "Le nombre d'image dans notre dataset 22688"
     ]
    }
   ],
   "source": [
    "print(\"Le nombre d'image dans notre dataset est {}\".format(images.count()))"
   ]
  },
  {
   "cell_type": "markdown",
   "id": "8b32ac34",
   "metadata": {},
   "source": [
    "<u>Je ne conserve que le **path** de l'image et j'ajoute <br />\n",
    "    une colonne contenant les **labels** de chaque image</u> :"
   ]
  },
  {
   "cell_type": "code",
   "execution_count": 11,
   "id": "a52ab808",
   "metadata": {},
   "outputs": [
    {
     "data": {
      "application/vnd.jupyter.widget-view+json": {
       "model_id": "",
       "version_major": 2,
       "version_minor": 0
      },
      "text/plain": [
       "FloatProgress(value=0.0, bar_style='info', description='Progress:', layout=Layout(height='25px', width='50%'),…"
      ]
     },
     "metadata": {},
     "output_type": "display_data"
    },
    {
     "name": "stdout",
     "output_type": "stream",
     "text": [
      "root\n",
      " |-- path: string (nullable = true)\n",
      " |-- modificationTime: timestamp (nullable = true)\n",
      " |-- length: long (nullable = true)\n",
      " |-- content: binary (nullable = true)\n",
      " |-- label: string (nullable = true)\n",
      "\n",
      "None\n",
      "+------------------------------------------------------------+----------+\n",
      "|path                                                        |label     |\n",
      "+------------------------------------------------------------+----------+\n",
      "|s3://kevinel-bucketaws-ocds-p8/Test/Watermelon/r_106_100.jpg|Watermelon|\n",
      "|s3://kevinel-bucketaws-ocds-p8/Test/Watermelon/r_109_100.jpg|Watermelon|\n",
      "|s3://kevinel-bucketaws-ocds-p8/Test/Watermelon/r_108_100.jpg|Watermelon|\n",
      "|s3://kevinel-bucketaws-ocds-p8/Test/Watermelon/r_107_100.jpg|Watermelon|\n",
      "|s3://kevinel-bucketaws-ocds-p8/Test/Watermelon/r_95_100.jpg |Watermelon|\n",
      "+------------------------------------------------------------+----------+\n",
      "only showing top 5 rows\n",
      "\n",
      "None"
     ]
    }
   ],
   "source": [
    "images = images.withColumn('label', element_at(split(images['path'], '/'),-2))\n",
    "print(images.printSchema())\n",
    "print(images.select('path','label').show(5,False))"
   ]
  },
  {
   "cell_type": "markdown",
   "id": "8f15b199",
   "metadata": {},
   "source": [
    "#### 4.10.5.2 Préparation du modèle"
   ]
  },
  {
   "cell_type": "code",
   "execution_count": 12,
   "id": "ec7c7165",
   "metadata": {},
   "outputs": [
    {
     "data": {
      "application/vnd.jupyter.widget-view+json": {
       "model_id": "",
       "version_major": 2,
       "version_minor": 0
      },
      "text/plain": [
       "FloatProgress(value=0.0, bar_style='info', description='Progress:', layout=Layout(height='25px', width='50%'),…"
      ]
     },
     "metadata": {},
     "output_type": "display_data"
    },
    {
     "name": "stdout",
     "output_type": "stream",
     "text": [
      "Downloading data from https://storage.googleapis.com/tensorflow/keras-applications/mobilenet_v2/mobilenet_v2_weights_tf_dim_ordering_tf_kernels_1.0_224.h5\n",
      "\r",
      "    8192/14536120 [..............................] - ETA: 0s\b\b\b\b\b\b\b\b\b\b\b\b\b\b\b\b\b\b\b\b\b\b\b\b\b\b\b\b\b\b\b\b\b\b\b\b\b\b\b\b\b\b\b\b\b\b\b\b\b\b\b\b\b\b\b\b\b\b\b\b\r",
      "   49152/14536120 [..............................] - ETA: 29s\b\b\b\b\b\b\b\b\b\b\b\b\b\b\b\b\b\b\b\b\b\b\b\b\b\b\b\b\b\b\b\b\b\b\b\b\b\b\b\b\b\b\b\b\b\b\b\b\b\b\b\b\b\b\b\b\b\b\b\b\b\r",
      "   81920/14536120 [..............................] - ETA: 34s\b\b\b\b\b\b\b\b\b\b\b\b\b\b\b\b\b\b\b\b\b\b\b\b\b\b\b\b\b\b\b\b\b\b\b\b\b\b\b\b\b\b\b\b\b\b\b\b\b\b\b\b\b\b\b\b\b\b\b\b\b\r",
      "  131072/14536120 [..............................] - ETA: 27s\b\b\b\b\b\b\b\b\b\b\b\b\b\b\b\b\b\b\b\b\b\b\b\b\b\b\b\b\b\b\b\b\b\b\b\b\b\b\b\b\b\b\b\b\b\b\b\b\b\b\b\b\b\b\b\b\b\b\b\b\b\r",
      "  180224/14536120 [..............................] - ETA: 24s\b\b\b\b\b\b\b\b\b\b\b\b\b\b\b\b\b\b\b\b\b\b\b\b\b\b\b\b\b\b\b\b\b\b\b\b\b\b\b\b\b\b\b\b\b\b\b\b\b\b\b\b\b\b\b\b\b\b\b\b\b\r",
      "  262144/14536120 [..............................] - ETA: 19s\b\b\b\b\b\b\b\b\b\b\b\b\b\b\b\b\b\b\b\b\b\b\b\b\b\b\b\b\b\b\b\b\b\b\b\b\b\b\b\b\b\b\b\b\b\b\b\b\b\b\b\b\b\b\b\b\b\b\b\b\b\r",
      "  393216/14536120 [..............................] - ETA: 14s\b\b\b\b\b\b\b\b\b\b\b\b\b\b\b\b\b\b\b\b\b\b\b\b\b\b\b\b\b\b\b\b\b\b\b\b\b\b\b\b\b\b\b\b\b\b\b\b\b\b\b\b\b\b\b\b\b\b\b\b\b\r",
      "  557056/14536120 [>.............................] - ETA: 11s\b\b\b\b\b\b\b\b\b\b\b\b\b\b\b\b\b\b\b\b\b\b\b\b\b\b\b\b\b\b\b\b\b\b\b\b\b\b\b\b\b\b\b\b\b\b\b\b\b\b\b\b\b\b\b\b\b\b\b\b\b\r",
      "  819200/14536120 [>.............................] - ETA: 8s \b\b\b\b\b\b\b\b\b\b\b\b\b\b\b\b\b\b\b\b\b\b\b\b\b\b\b\b\b\b\b\b\b\b\b\b\b\b\b\b\b\b\b\b\b\b\b\b\b\b\b\b\b\b\b\b\b\b\b\b\r",
      " 1212416/14536120 [=>............................] - ETA: 6s\b\b\b\b\b\b\b\b\b\b\b\b\b\b\b\b\b\b\b\b\b\b\b\b\b\b\b\b\b\b\b\b\b\b\b\b\b\b\b\b\b\b\b\b\b\b\b\b\b\b\b\b\b\b\b\b\b\b\b\b\r",
      " 1835008/14536120 [==>...........................] - ETA: 4s\b\b\b\b\b\b\b\b\b\b\b\b\b\b\b\b\b\b\b\b\b\b\b\b\b\b\b\b\b\b\b\b\b\b\b\b\b\b\b\b\b\b\b\b\b\b\b\b\b\b\b\b\b\b\b\b\b\b\b\b\r",
      " 2809856/14536120 [====>.........................] - ETA: 2s\b\b\b\b\b\b\b\b\b\b\b\b\b\b\b\b\b\b\b\b\b\b\b\b\b\b\b\b\b\b\b\b\b\b\b\b\b\b\b\b\b\b\b\b\b\b\b\b\b\b\b\b\b\b\b\b\b\b\b\b\r",
      " 4292608/14536120 [=======>......................] - ETA: 1s\b\b\b\b\b\b\b\b\b\b\b\b\b\b\b\b\b\b\b\b\b\b\b\b\b\b\b\b\b\b\b\b\b\b\b\b\b\b\b\b\b\b\b\b\b\b\b\b\b\b\b\b\b\b\b\b\b\b\b\b\r",
      " 6291456/14536120 [===========>..................] - ETA: 1s\b\b\b\b\b\b\b\b\b\b\b\b\b\b\b\b\b\b\b\b\b\b\b\b\b\b\b\b\b\b\b\b\b\b\b\b\b\b\b\b\b\b\b\b\b\b\b\b\b\b\b\b\b\b\b\b\b\b\b\b\r",
      " 9027584/14536120 [=================>............] - ETA: 0s\b\b\b\b\b\b\b\b\b\b\b\b\b\b\b\b\b\b\b\b\b\b\b\b\b\b\b\b\b\b\b\b\b\b\b\b\b\b\b\b\b\b\b\b\b\b\b\b\b\b\b\b\b\b\b\b\b\b\b\b\r",
      "10846208/14536120 [=====================>........] - ETA: 0s\b\b\b\b\b\b\b\b\b\b\b\b\b\b\b\b\b\b\b\b\b\b\b\b\b\b\b\b\b\b\b\b\b\b\b\b\b\b\b\b\b\b\b\b\b\b\b\b\b\b\b\b\b\b\b\b\b\b\b\b\r",
      "13746176/14536120 [===========================>..] - ETA: 0s\b\b\b\b\b\b\b\b\b\b\b\b\b\b\b\b\b\b\b\b\b\b\b\b\b\b\b\b\b\b\b\b\b\b\b\b\b\b\b\b\b\b\b\b\b\b\b\b\b\b\b\b\b\b\b\b\b\b\b\b\r",
      "14536120/14536120 [==============================] - 1s 0us/step"
     ]
    }
   ],
   "source": [
    "model = MobileNetV2(weights='imagenet',\n",
    "                    include_top=True,\n",
    "                    input_shape=(224, 224, 3))"
   ]
  },
  {
   "cell_type": "code",
   "execution_count": 13,
   "id": "1b9bc650",
   "metadata": {},
   "outputs": [
    {
     "data": {
      "application/vnd.jupyter.widget-view+json": {
       "model_id": "",
       "version_major": 2,
       "version_minor": 0
      },
      "text/plain": [
       "FloatProgress(value=0.0, bar_style='info', description='Progress:', layout=Layout(height='25px', width='50%'),…"
      ]
     },
     "metadata": {},
     "output_type": "display_data"
    }
   ],
   "source": [
    "new_model = Model(inputs=model.input,\n",
    "                  outputs=model.layers[-2].output)"
   ]
  },
  {
   "cell_type": "markdown",
   "id": "db9fda48",
   "metadata": {},
   "source": [
    "Tous les workeurs doivent pouvoir accéder au modèle ainsi qu'à ses poids. <br />\n",
    "Une bonne pratique consiste à charger le modèle sur le driver puis à diffuser <br />\n",
    "ensuite les poids aux différents workeurs."
   ]
  },
  {
   "cell_type": "code",
   "execution_count": 14,
   "id": "a0d497f2",
   "metadata": {},
   "outputs": [
    {
     "data": {
      "application/vnd.jupyter.widget-view+json": {
       "model_id": "",
       "version_major": 2,
       "version_minor": 0
      },
      "text/plain": [
       "FloatProgress(value=0.0, bar_style='info', description='Progress:', layout=Layout(height='25px', width='50%'),…"
      ]
     },
     "metadata": {},
     "output_type": "display_data"
    }
   ],
   "source": [
    "brodcast_weights = sc.broadcast(new_model.get_weights())"
   ]
  },
  {
   "cell_type": "code",
   "execution_count": 15,
   "id": "1bc0bf14",
   "metadata": {},
   "outputs": [
    {
     "data": {
      "application/vnd.jupyter.widget-view+json": {
       "model_id": "",
       "version_major": 2,
       "version_minor": 0
      },
      "text/plain": [
       "FloatProgress(value=0.0, bar_style='info', description='Progress:', layout=Layout(height='25px', width='50%'),…"
      ]
     },
     "metadata": {},
     "output_type": "display_data"
    },
    {
     "name": "stdout",
     "output_type": "stream",
     "text": [
      "Model: \"model\"\n",
      "__________________________________________________________________________________________________\n",
      " Layer (type)                   Output Shape         Param #     Connected to                     \n",
      "==================================================================================================\n",
      " input_1 (InputLayer)           [(None, 224, 224, 3  0           []                               \n",
      "                                )]                                                                \n",
      "                                                                                                  \n",
      " Conv1 (Conv2D)                 (None, 112, 112, 32  864         ['input_1[0][0]']                \n",
      "                                )                                                                 \n",
      "                                                                                                  \n",
      " bn_Conv1 (BatchNormalization)  (None, 112, 112, 32  128         ['Conv1[0][0]']                  \n",
      "                                )                                                                 \n",
      "                                                                                                  \n",
      " Conv1_relu (ReLU)              (None, 112, 112, 32  0           ['bn_Conv1[0][0]']               \n",
      "                                )                                                                 \n",
      "                                                                                                  \n",
      " expanded_conv_depthwise (Depth  (None, 112, 112, 32  288        ['Conv1_relu[0][0]']             \n",
      " wiseConv2D)                    )                                                                 \n",
      "                                                                                                  \n",
      " expanded_conv_depthwise_BN (Ba  (None, 112, 112, 32  128        ['expanded_conv_depthwise[0][0]']\n",
      " tchNormalization)              )                                                                 \n",
      "                                                                                                  \n",
      " expanded_conv_depthwise_relu (  (None, 112, 112, 32  0          ['expanded_conv_depthwise_BN[0][0\n",
      " ReLU)                          )                                ]']                              \n",
      "                                                                                                  \n",
      " expanded_conv_project (Conv2D)  (None, 112, 112, 16  512        ['expanded_conv_depthwise_relu[0]\n",
      "                                )                                [0]']                            \n",
      "                                                                                                  \n",
      " expanded_conv_project_BN (Batc  (None, 112, 112, 16  64         ['expanded_conv_project[0][0]']  \n",
      " hNormalization)                )                                                                 \n",
      "                                                                                                  \n",
      " block_1_expand (Conv2D)        (None, 112, 112, 96  1536        ['expanded_conv_project_BN[0][0]'\n",
      "                                )                                ]                                \n",
      "                                                                                                  \n",
      " block_1_expand_BN (BatchNormal  (None, 112, 112, 96  384        ['block_1_expand[0][0]']         \n",
      " ization)                       )                                                                 \n",
      "                                                                                                  \n",
      " block_1_expand_relu (ReLU)     (None, 112, 112, 96  0           ['block_1_expand_BN[0][0]']      \n",
      "                                )                                                                 \n",
      "                                                                                                  \n",
      " block_1_pad (ZeroPadding2D)    (None, 113, 113, 96  0           ['block_1_expand_relu[0][0]']    \n",
      "                                )                                                                 \n",
      "                                                                                                  \n",
      " block_1_depthwise (DepthwiseCo  (None, 56, 56, 96)  864         ['block_1_pad[0][0]']            \n",
      " nv2D)                                                                                            \n",
      "                                                                                                  \n",
      " block_1_depthwise_BN (BatchNor  (None, 56, 56, 96)  384         ['block_1_depthwise[0][0]']      \n",
      " malization)                                                                                      \n",
      "                                                                                                  \n",
      " block_1_depthwise_relu (ReLU)  (None, 56, 56, 96)   0           ['block_1_depthwise_BN[0][0]']   \n",
      "                                                                                                  \n",
      " block_1_project (Conv2D)       (None, 56, 56, 24)   2304        ['block_1_depthwise_relu[0][0]'] \n",
      "                                                                                                  \n",
      " block_1_project_BN (BatchNorma  (None, 56, 56, 24)  96          ['block_1_project[0][0]']        \n",
      " lization)                                                                                        \n",
      "                                                                                                  \n",
      " block_2_expand (Conv2D)        (None, 56, 56, 144)  3456        ['block_1_project_BN[0][0]']     \n",
      "                                                                                                  \n",
      " block_2_expand_BN (BatchNormal  (None, 56, 56, 144)  576        ['block_2_expand[0][0]']         \n",
      " ization)                                                                                         \n",
      "                                                                                                  \n",
      " block_2_expand_relu (ReLU)     (None, 56, 56, 144)  0           ['block_2_expand_BN[0][0]']      \n",
      "                                                                                                  \n",
      " block_2_depthwise (DepthwiseCo  (None, 56, 56, 144)  1296       ['block_2_expand_relu[0][0]']    \n",
      " nv2D)                                                                                            \n",
      "                                                                                                  \n",
      " block_2_depthwise_BN (BatchNor  (None, 56, 56, 144)  576        ['block_2_depthwise[0][0]']      \n",
      " malization)                                                                                      \n",
      "                                                                                                  \n",
      " block_2_depthwise_relu (ReLU)  (None, 56, 56, 144)  0           ['block_2_depthwise_BN[0][0]']   \n",
      "                                                                                                  \n",
      " block_2_project (Conv2D)       (None, 56, 56, 24)   3456        ['block_2_depthwise_relu[0][0]'] \n",
      "                                                                                                  \n",
      " block_2_project_BN (BatchNorma  (None, 56, 56, 24)  96          ['block_2_project[0][0]']        \n",
      " lization)                                                                                        \n",
      "                                                                                                  \n",
      " block_2_add (Add)              (None, 56, 56, 24)   0           ['block_1_project_BN[0][0]',     \n",
      "                                                                  'block_2_project_BN[0][0]']     \n",
      "                                                                                                  \n",
      " block_3_expand (Conv2D)        (None, 56, 56, 144)  3456        ['block_2_add[0][0]']            \n",
      "                                                                                                  \n",
      " block_3_expand_BN (BatchNormal  (None, 56, 56, 144)  576        ['block_3_expand[0][0]']         \n",
      " ization)                                                                                         \n",
      "                                                                                                  \n",
      " block_3_expand_relu (ReLU)     (None, 56, 56, 144)  0           ['block_3_expand_BN[0][0]']      \n",
      "                                                                                                  \n",
      " block_3_pad (ZeroPadding2D)    (None, 57, 57, 144)  0           ['block_3_expand_relu[0][0]']    \n",
      "                                                                                                  \n",
      " block_3_depthwise (DepthwiseCo  (None, 28, 28, 144)  1296       ['block_3_pad[0][0]']            \n",
      " nv2D)                                                                                            \n",
      "                                                                                                  \n",
      " block_3_depthwise_BN (BatchNor  (None, 28, 28, 144)  576        ['block_3_depthwise[0][0]']      \n",
      " malization)                                                                                      \n",
      "                                                                                                  \n",
      " block_3_depthwise_relu (ReLU)  (None, 28, 28, 144)  0           ['block_3_depthwise_BN[0][0]']   \n",
      "                                                                                                  \n",
      " block_3_project (Conv2D)       (None, 28, 28, 32)   4608        ['block_3_depthwise_relu[0][0]'] \n",
      "                                                                                                  \n",
      " block_3_project_BN (BatchNorma  (None, 28, 28, 32)  128         ['block_3_project[0][0]']        \n",
      " lization)                                                                                        \n",
      "                                                                                                  \n",
      " block_4_expand (Conv2D)        (None, 28, 28, 192)  6144        ['block_3_project_BN[0][0]']     \n",
      "                                                                                                  \n",
      " block_4_expand_BN (BatchNormal  (None, 28, 28, 192)  768        ['block_4_expand[0][0]']         \n",
      " ization)                                                                                         \n",
      "                                                                                                  \n",
      " block_4_expand_relu (ReLU)     (None, 28, 28, 192)  0           ['block_4_expand_BN[0][0]']      \n",
      "                                                                                                  \n",
      " block_4_depthwise (DepthwiseCo  (None, 28, 28, 192)  1728       ['block_4_expand_relu[0][0]']    \n",
      " nv2D)                                                                                            \n",
      "                                                                                                  \n",
      " block_4_depthwise_BN (BatchNor  (None, 28, 28, 192)  768        ['block_4_depthwise[0][0]']      \n",
      " malization)                                                                                      \n",
      "                                                                                                  \n",
      " block_4_depthwise_relu (ReLU)  (None, 28, 28, 192)  0           ['block_4_depthwise_BN[0][0]']   \n",
      "                                                                                                  \n",
      " block_4_project (Conv2D)       (None, 28, 28, 32)   6144        ['block_4_depthwise_relu[0][0]'] \n",
      "                                                                                                  \n",
      " block_4_project_BN (BatchNorma  (None, 28, 28, 32)  128         ['block_4_project[0][0]']        \n",
      " lization)                                                                                        \n",
      "                                                                                                  \n",
      " block_4_add (Add)              (None, 28, 28, 32)   0           ['block_3_project_BN[0][0]',     \n",
      "                                                                  'block_4_project_BN[0][0]']     \n",
      "                                                                                                  \n",
      " block_5_expand (Conv2D)        (None, 28, 28, 192)  6144        ['block_4_add[0][0]']            \n",
      "                                                                                                  \n",
      " block_5_expand_BN (BatchNormal  (None, 28, 28, 192)  768        ['block_5_expand[0][0]']         \n",
      " ization)                                                                                         \n",
      "                                                                                                  \n",
      " block_5_expand_relu (ReLU)     (None, 28, 28, 192)  0           ['block_5_expand_BN[0][0]']      \n",
      "                                                                                                  \n",
      " block_5_depthwise (DepthwiseCo  (None, 28, 28, 192)  1728       ['block_5_expand_relu[0][0]']    \n",
      " nv2D)                                                                                            \n",
      "                                                                                                  \n",
      " block_5_depthwise_BN (BatchNor  (None, 28, 28, 192)  768        ['block_5_depthwise[0][0]']      \n",
      " malization)                                                                                      \n",
      "                                                                                                  \n",
      " block_5_depthwise_relu (ReLU)  (None, 28, 28, 192)  0           ['block_5_depthwise_BN[0][0]']   \n",
      "                                                                                                  \n",
      " block_5_project (Conv2D)       (None, 28, 28, 32)   6144        ['block_5_depthwise_relu[0][0]'] \n",
      "                                                                                                  \n",
      " block_5_project_BN (BatchNorma  (None, 28, 28, 32)  128         ['block_5_project[0][0]']        \n",
      " lization)                                                                                        \n",
      "                                                                                                  \n",
      " block_5_add (Add)              (None, 28, 28, 32)   0           ['block_4_add[0][0]',            \n",
      "                                                                  'block_5_project_BN[0][0]']     \n",
      "                                                                                                  \n",
      " block_6_expand (Conv2D)        (None, 28, 28, 192)  6144        ['block_5_add[0][0]']            \n",
      "                                                                                                  \n",
      " block_6_expand_BN (BatchNormal  (None, 28, 28, 192)  768        ['block_6_expand[0][0]']         \n",
      " ization)                                                                                         \n",
      "                                                                                                  \n",
      " block_6_expand_relu (ReLU)     (None, 28, 28, 192)  0           ['block_6_expand_BN[0][0]']      \n",
      "                                                                                                  \n",
      " block_6_pad (ZeroPadding2D)    (None, 29, 29, 192)  0           ['block_6_expand_relu[0][0]']    \n",
      "                                                                                                  \n",
      " block_6_depthwise (DepthwiseCo  (None, 14, 14, 192)  1728       ['block_6_pad[0][0]']            \n",
      " nv2D)                                                                                            \n",
      "                                                                                                  \n",
      " block_6_depthwise_BN (BatchNor  (None, 14, 14, 192)  768        ['block_6_depthwise[0][0]']      \n",
      " malization)                                                                                      \n",
      "                                                                                                  \n",
      " block_6_depthwise_relu (ReLU)  (None, 14, 14, 192)  0           ['block_6_depthwise_BN[0][0]']   \n",
      "                                                                                                  \n",
      " block_6_project (Conv2D)       (None, 14, 14, 64)   12288       ['block_6_depthwise_relu[0][0]'] \n",
      "                                                                                                  \n",
      " block_6_project_BN (BatchNorma  (None, 14, 14, 64)  256         ['block_6_project[0][0]']        \n",
      " lization)                                                                                        \n",
      "                                                                                                  \n",
      " block_7_expand (Conv2D)        (None, 14, 14, 384)  24576       ['block_6_project_BN[0][0]']     \n",
      "                                                                                                  \n",
      " block_7_expand_BN (BatchNormal  (None, 14, 14, 384)  1536       ['block_7_expand[0][0]']         \n",
      " ization)                                                                                         \n",
      "                                                                                                  \n",
      " block_7_expand_relu (ReLU)     (None, 14, 14, 384)  0           ['block_7_expand_BN[0][0]']      \n",
      "                                                                                                  \n",
      " block_7_depthwise (DepthwiseCo  (None, 14, 14, 384)  3456       ['block_7_expand_relu[0][0]']    \n",
      " nv2D)                                                                                            \n",
      "                                                                                                  \n",
      " block_7_depthwise_BN (BatchNor  (None, 14, 14, 384)  1536       ['block_7_depthwise[0][0]']      \n",
      " malization)                                                                                      \n",
      "                                                                                                  \n",
      " block_7_depthwise_relu (ReLU)  (None, 14, 14, 384)  0           ['block_7_depthwise_BN[0][0]']   \n",
      "                                                                                                  \n",
      " block_7_project (Conv2D)       (None, 14, 14, 64)   24576       ['block_7_depthwise_relu[0][0]'] \n",
      "                                                                                                  \n",
      " block_7_project_BN (BatchNorma  (None, 14, 14, 64)  256         ['block_7_project[0][0]']        \n",
      " lization)                                                                                        \n",
      "                                                                                                  \n",
      " block_7_add (Add)              (None, 14, 14, 64)   0           ['block_6_project_BN[0][0]',     \n",
      "                                                                  'block_7_project_BN[0][0]']     \n",
      "                                                                                                  \n",
      " block_8_expand (Conv2D)        (None, 14, 14, 384)  24576       ['block_7_add[0][0]']            \n",
      "                                                                                                  \n",
      " block_8_expand_BN (BatchNormal  (None, 14, 14, 384)  1536       ['block_8_expand[0][0]']         \n",
      " ization)                                                                                         \n",
      "                                                                                                  \n",
      " block_8_expand_relu (ReLU)     (None, 14, 14, 384)  0           ['block_8_expand_BN[0][0]']      \n",
      "                                                                                                  \n",
      " block_8_depthwise (DepthwiseCo  (None, 14, 14, 384)  3456       ['block_8_expand_relu[0][0]']    \n",
      " nv2D)                                                                                            \n",
      "                                                                                                  \n",
      " block_8_depthwise_BN (BatchNor  (None, 14, 14, 384)  1536       ['block_8_depthwise[0][0]']      \n",
      " malization)                                                                                      \n",
      "                                                                                                  \n",
      " block_8_depthwise_relu (ReLU)  (None, 14, 14, 384)  0           ['block_8_depthwise_BN[0][0]']   \n",
      "                                                                                                  \n",
      " block_8_project (Conv2D)       (None, 14, 14, 64)   24576       ['block_8_depthwise_relu[0][0]'] \n",
      "                                                                                                  \n",
      " block_8_project_BN (BatchNorma  (None, 14, 14, 64)  256         ['block_8_project[0][0]']        \n",
      " lization)                                                                                        \n",
      "                                                                                                  \n",
      " block_8_add (Add)              (None, 14, 14, 64)   0           ['block_7_add[0][0]',            \n",
      "                                                                  'block_8_project_BN[0][0]']     \n",
      "                                                                                                  \n",
      " block_9_expand (Conv2D)        (None, 14, 14, 384)  24576       ['block_8_add[0][0]']            \n",
      "                                                                                                  \n",
      " block_9_expand_BN (BatchNormal  (None, 14, 14, 384)  1536       ['block_9_expand[0][0]']         \n",
      " ization)                                                                                         \n",
      "                                                                                                  \n",
      " block_9_expand_relu (ReLU)     (None, 14, 14, 384)  0           ['block_9_expand_BN[0][0]']      \n",
      "                                                                                                  \n",
      " block_9_depthwise (DepthwiseCo  (None, 14, 14, 384)  3456       ['block_9_expand_relu[0][0]']    \n",
      " nv2D)                                                                                            \n",
      "                                                                                                  \n",
      " block_9_depthwise_BN (BatchNor  (None, 14, 14, 384)  1536       ['block_9_depthwise[0][0]']      \n",
      " malization)                                                                                      \n",
      "                                                                                                  \n",
      " block_9_depthwise_relu (ReLU)  (None, 14, 14, 384)  0           ['block_9_depthwise_BN[0][0]']   \n",
      "                                                                                                  \n",
      " block_9_project (Conv2D)       (None, 14, 14, 64)   24576       ['block_9_depthwise_relu[0][0]'] \n",
      "                                                                                                  \n",
      " block_9_project_BN (BatchNorma  (None, 14, 14, 64)  256         ['block_9_project[0][0]']        \n",
      " lization)                                                                                        \n",
      "                                                                                                  \n",
      " block_9_add (Add)              (None, 14, 14, 64)   0           ['block_8_add[0][0]',            \n",
      "                                                                  'block_9_project_BN[0][0]']     \n",
      "                                                                                                  \n",
      " block_10_expand (Conv2D)       (None, 14, 14, 384)  24576       ['block_9_add[0][0]']            \n",
      "                                                                                                  \n",
      " block_10_expand_BN (BatchNorma  (None, 14, 14, 384)  1536       ['block_10_expand[0][0]']        \n",
      " lization)                                                                                        \n",
      "                                                                                                  \n",
      " block_10_expand_relu (ReLU)    (None, 14, 14, 384)  0           ['block_10_expand_BN[0][0]']     \n",
      "                                                                                                  \n",
      " block_10_depthwise (DepthwiseC  (None, 14, 14, 384)  3456       ['block_10_expand_relu[0][0]']   \n",
      " onv2D)                                                                                           \n",
      "                                                                                                  \n",
      " block_10_depthwise_BN (BatchNo  (None, 14, 14, 384)  1536       ['block_10_depthwise[0][0]']     \n",
      " rmalization)                                                                                     \n",
      "                                                                                                  \n",
      " block_10_depthwise_relu (ReLU)  (None, 14, 14, 384)  0          ['block_10_depthwise_BN[0][0]']  \n",
      "                                                                                                  \n",
      " block_10_project (Conv2D)      (None, 14, 14, 96)   36864       ['block_10_depthwise_relu[0][0]']\n",
      "                                                                                                  \n",
      " block_10_project_BN (BatchNorm  (None, 14, 14, 96)  384         ['block_10_project[0][0]']       \n",
      " alization)                                                                                       \n",
      "                                                                                                  \n",
      " block_11_expand (Conv2D)       (None, 14, 14, 576)  55296       ['block_10_project_BN[0][0]']    \n",
      "                                                                                                  \n",
      " block_11_expand_BN (BatchNorma  (None, 14, 14, 576)  2304       ['block_11_expand[0][0]']        \n",
      " lization)                                                                                        \n",
      "                                                                                                  \n",
      " block_11_expand_relu (ReLU)    (None, 14, 14, 576)  0           ['block_11_expand_BN[0][0]']     \n",
      "                                                                                                  \n",
      " block_11_depthwise (DepthwiseC  (None, 14, 14, 576)  5184       ['block_11_expand_relu[0][0]']   \n",
      " onv2D)                                                                                           \n",
      "                                                                                                  \n",
      " block_11_depthwise_BN (BatchNo  (None, 14, 14, 576)  2304       ['block_11_depthwise[0][0]']     \n",
      " rmalization)                                                                                     \n",
      "                                                                                                  \n",
      " block_11_depthwise_relu (ReLU)  (None, 14, 14, 576)  0          ['block_11_depthwise_BN[0][0]']  \n",
      "                                                                                                  \n",
      " block_11_project (Conv2D)      (None, 14, 14, 96)   55296       ['block_11_depthwise_relu[0][0]']\n",
      "                                                                                                  \n",
      " block_11_project_BN (BatchNorm  (None, 14, 14, 96)  384         ['block_11_project[0][0]']       \n",
      " alization)                                                                                       \n",
      "                                                                                                  \n",
      " block_11_add (Add)             (None, 14, 14, 96)   0           ['block_10_project_BN[0][0]',    \n",
      "                                                                  'block_11_project_BN[0][0]']    \n",
      "                                                                                                  \n",
      " block_12_expand (Conv2D)       (None, 14, 14, 576)  55296       ['block_11_add[0][0]']           \n",
      "                                                                                                  \n",
      " block_12_expand_BN (BatchNorma  (None, 14, 14, 576)  2304       ['block_12_expand[0][0]']        \n",
      " lization)                                                                                        \n",
      "                                                                                                  \n",
      " block_12_expand_relu (ReLU)    (None, 14, 14, 576)  0           ['block_12_expand_BN[0][0]']     \n",
      "                                                                                                  \n",
      " block_12_depthwise (DepthwiseC  (None, 14, 14, 576)  5184       ['block_12_expand_relu[0][0]']   \n",
      " onv2D)                                                                                           \n",
      "                                                                                                  \n",
      " block_12_depthwise_BN (BatchNo  (None, 14, 14, 576)  2304       ['block_12_depthwise[0][0]']     \n",
      " rmalization)                                                                                     \n",
      "                                                                                                  \n",
      " block_12_depthwise_relu (ReLU)  (None, 14, 14, 576)  0          ['block_12_depthwise_BN[0][0]']  \n",
      "                                                                                                  \n",
      " block_12_project (Conv2D)      (None, 14, 14, 96)   55296       ['block_12_depthwise_relu[0][0]']\n",
      "                                                                                                  \n",
      " block_12_project_BN (BatchNorm  (None, 14, 14, 96)  384         ['block_12_project[0][0]']       \n",
      " alization)                                                                                       \n",
      "                                                                                                  \n",
      " block_12_add (Add)             (None, 14, 14, 96)   0           ['block_11_add[0][0]',           \n",
      "                                                                  'block_12_project_BN[0][0]']    \n",
      "                                                                                                  \n",
      " block_13_expand (Conv2D)       (None, 14, 14, 576)  55296       ['block_12_add[0][0]']           \n",
      "                                                                                                  \n",
      " block_13_expand_BN (BatchNorma  (None, 14, 14, 576)  2304       ['block_13_expand[0][0]']        \n",
      " lization)                                                                                        \n",
      "                                                                                                  \n",
      " block_13_expand_relu (ReLU)    (None, 14, 14, 576)  0           ['block_13_expand_BN[0][0]']     \n",
      "                                                                                                  \n",
      " block_13_pad (ZeroPadding2D)   (None, 15, 15, 576)  0           ['block_13_expand_relu[0][0]']   \n",
      "                                                                                                  \n",
      " block_13_depthwise (DepthwiseC  (None, 7, 7, 576)   5184        ['block_13_pad[0][0]']           \n",
      " onv2D)                                                                                           \n",
      "                                                                                                  \n",
      " block_13_depthwise_BN (BatchNo  (None, 7, 7, 576)   2304        ['block_13_depthwise[0][0]']     \n",
      " rmalization)                                                                                     \n",
      "                                                                                                  \n",
      " block_13_depthwise_relu (ReLU)  (None, 7, 7, 576)   0           ['block_13_depthwise_BN[0][0]']  \n",
      "                                                                                                  \n",
      " block_13_project (Conv2D)      (None, 7, 7, 160)    92160       ['block_13_depthwise_relu[0][0]']\n",
      "                                                                                                  \n",
      " block_13_project_BN (BatchNorm  (None, 7, 7, 160)   640         ['block_13_project[0][0]']       \n",
      " alization)                                                                                       \n",
      "                                                                                                  \n",
      " block_14_expand (Conv2D)       (None, 7, 7, 960)    153600      ['block_13_project_BN[0][0]']    \n",
      "                                                                                                  \n",
      " block_14_expand_BN (BatchNorma  (None, 7, 7, 960)   3840        ['block_14_expand[0][0]']        \n",
      " lization)                                                                                        \n",
      "                                                                                                  \n",
      " block_14_expand_relu (ReLU)    (None, 7, 7, 960)    0           ['block_14_expand_BN[0][0]']     \n",
      "                                                                                                  \n",
      " block_14_depthwise (DepthwiseC  (None, 7, 7, 960)   8640        ['block_14_expand_relu[0][0]']   \n",
      " onv2D)                                                                                           \n",
      "                                                                                                  \n",
      " block_14_depthwise_BN (BatchNo  (None, 7, 7, 960)   3840        ['block_14_depthwise[0][0]']     \n",
      " rmalization)                                                                                     \n",
      "                                                                                                  \n",
      " block_14_depthwise_relu (ReLU)  (None, 7, 7, 960)   0           ['block_14_depthwise_BN[0][0]']  \n",
      "                                                                                                  \n",
      " block_14_project (Conv2D)      (None, 7, 7, 160)    153600      ['block_14_depthwise_relu[0][0]']\n",
      "                                                                                                  \n",
      " block_14_project_BN (BatchNorm  (None, 7, 7, 160)   640         ['block_14_project[0][0]']       \n",
      " alization)                                                                                       \n",
      "                                                                                                  \n",
      " block_14_add (Add)             (None, 7, 7, 160)    0           ['block_13_project_BN[0][0]',    \n",
      "                                                                  'block_14_project_BN[0][0]']    \n",
      "                                                                                                  \n",
      " block_15_expand (Conv2D)       (None, 7, 7, 960)    153600      ['block_14_add[0][0]']           \n",
      "                                                                                                  \n",
      " block_15_expand_BN (BatchNorma  (None, 7, 7, 960)   3840        ['block_15_expand[0][0]']        \n",
      " lization)                                                                                        \n",
      "                                                                                                  \n",
      " block_15_expand_relu (ReLU)    (None, 7, 7, 960)    0           ['block_15_expand_BN[0][0]']     \n",
      "                                                                                                  \n",
      " block_15_depthwise (DepthwiseC  (None, 7, 7, 960)   8640        ['block_15_expand_relu[0][0]']   \n",
      " onv2D)                                                                                           \n",
      "                                                                                                  \n",
      " block_15_depthwise_BN (BatchNo  (None, 7, 7, 960)   3840        ['block_15_depthwise[0][0]']     \n",
      " rmalization)                                                                                     \n",
      "                                                                                                  \n",
      " block_15_depthwise_relu (ReLU)  (None, 7, 7, 960)   0           ['block_15_depthwise_BN[0][0]']  \n",
      "                                                                                                  \n",
      " block_15_project (Conv2D)      (None, 7, 7, 160)    153600      ['block_15_depthwise_relu[0][0]']\n",
      "                                                                                                  \n",
      " block_15_project_BN (BatchNorm  (None, 7, 7, 160)   640         ['block_15_project[0][0]']       \n",
      " alization)                                                                                       \n",
      "                                                                                                  \n",
      " block_15_add (Add)             (None, 7, 7, 160)    0           ['block_14_add[0][0]',           \n",
      "                                                                  'block_15_project_BN[0][0]']    \n",
      "                                                                                                  \n",
      " block_16_expand (Conv2D)       (None, 7, 7, 960)    153600      ['block_15_add[0][0]']           \n",
      "                                                                                                  \n",
      " block_16_expand_BN (BatchNorma  (None, 7, 7, 960)   3840        ['block_16_expand[0][0]']        \n",
      " lization)                                                                                        \n",
      "                                                                                                  \n",
      " block_16_expand_relu (ReLU)    (None, 7, 7, 960)    0           ['block_16_expand_BN[0][0]']     \n",
      "                                                                                                  \n",
      " block_16_depthwise (DepthwiseC  (None, 7, 7, 960)   8640        ['block_16_expand_relu[0][0]']   \n",
      " onv2D)                                                                                           \n",
      "                                                                                                  \n",
      " block_16_depthwise_BN (BatchNo  (None, 7, 7, 960)   3840        ['block_16_depthwise[0][0]']     \n",
      " rmalization)                                                                                     \n",
      "                                                                                                  \n",
      " block_16_depthwise_relu (ReLU)  (None, 7, 7, 960)   0           ['block_16_depthwise_BN[0][0]']  \n",
      "                                                                                                  \n",
      " block_16_project (Conv2D)      (None, 7, 7, 320)    307200      ['block_16_depthwise_relu[0][0]']\n",
      "                                                                                                  \n",
      " block_16_project_BN (BatchNorm  (None, 7, 7, 320)   1280        ['block_16_project[0][0]']       \n",
      " alization)                                                                                       \n",
      "                                                                                                  \n",
      " Conv_1 (Conv2D)                (None, 7, 7, 1280)   409600      ['block_16_project_BN[0][0]']    \n",
      "                                                                                                  \n",
      " Conv_1_bn (BatchNormalization)  (None, 7, 7, 1280)  5120        ['Conv_1[0][0]']                 \n",
      "                                                                                                  \n",
      " out_relu (ReLU)                (None, 7, 7, 1280)   0           ['Conv_1_bn[0][0]']              \n",
      "                                                                                                  \n",
      " global_average_pooling2d (Glob  (None, 1280)        0           ['out_relu[0][0]']               \n",
      " alAveragePooling2D)                                                                              \n",
      "                                                                                                  \n",
      "==================================================================================================\n",
      "Total params: 2,257,984\n",
      "Trainable params: 2,223,872\n",
      "Non-trainable params: 34,112\n",
      "__________________________________________________________________________________________________"
     ]
    }
   ],
   "source": [
    "new_model.summary()"
   ]
  },
  {
   "cell_type": "code",
   "execution_count": 16,
   "id": "be8fe2b9",
   "metadata": {},
   "outputs": [
    {
     "data": {
      "application/vnd.jupyter.widget-view+json": {
       "model_id": "",
       "version_major": 2,
       "version_minor": 0
      },
      "text/plain": [
       "FloatProgress(value=0.0, bar_style='info', description='Progress:', layout=Layout(height='25px', width='50%'),…"
      ]
     },
     "metadata": {},
     "output_type": "display_data"
    }
   ],
   "source": [
    "def model_fn():\n",
    "    \"\"\"\n",
    "    Returns a MobileNetV2 model with top layer removed \n",
    "    and broadcasted pretrained weights.\n",
    "    \"\"\"\n",
    "    model = MobileNetV2(weights='imagenet',\n",
    "                        include_top=True,\n",
    "                        input_shape=(224, 224, 3))\n",
    "    for layer in model.layers:\n",
    "        layer.trainable = False\n",
    "    new_model = Model(inputs=model.input,\n",
    "                  outputs=model.layers[-2].output)\n",
    "    new_model.set_weights(brodcast_weights.value)\n",
    "    return new_model"
   ]
  },
  {
   "cell_type": "markdown",
   "id": "c13b3a13",
   "metadata": {},
   "source": [
    "#### 4.10.5.3 Définition du processus de chargement des images <br/> et application de leur featurisation à travers l'utilisation de pandas UDF\n",
    "\n",
    "Ce notebook définit la logique par étapes, jusqu'à Pandas UDF.\n",
    "\n",
    "<u>L'empilement des appels est la suivante</u> :\n",
    "\n",
    "- Pandas UDF\n",
    "  - featuriser une série d'images pd.Series\n",
    "   - prétraiter une image"
   ]
  },
  {
   "cell_type": "code",
   "execution_count": 17,
   "id": "933100cf",
   "metadata": {
    "scrolled": true
   },
   "outputs": [
    {
     "data": {
      "application/vnd.jupyter.widget-view+json": {
       "model_id": "",
       "version_major": 2,
       "version_minor": 0
      },
      "text/plain": [
       "FloatProgress(value=0.0, bar_style='info', description='Progress:', layout=Layout(height='25px', width='50%'),…"
      ]
     },
     "metadata": {},
     "output_type": "display_data"
    },
    {
     "name": "stdout",
     "output_type": "stream",
     "text": [
      "/mnt/yarn/usercache/livy/appcache/application_1697887572418_0002/container_1697887572418_0002_01_000002/pyspark.zip/pyspark/sql/pandas/functions.py:403: UserWarning: In Python 3.6+ and Spark 3.0+, it is preferred to specify type hints for pandas UDF instead of specifying pandas UDF type which will be deprecated in the future releases. See SPARK-28264 for more details."
     ]
    }
   ],
   "source": [
    "def preprocess(content):\n",
    "    \"\"\"\n",
    "    Preprocesses raw image bytes for prediction.\n",
    "    \"\"\"\n",
    "    img = Image.open(io.BytesIO(content)).resize([224, 224])\n",
    "    arr = img_to_array(img)\n",
    "    return preprocess_input(arr)\n",
    "\n",
    "def featurize_series(model, content_series):\n",
    "    \"\"\"\n",
    "    Featurize a pd.Series of raw images using the input model.\n",
    "    :return: a pd.Series of image features\n",
    "    \"\"\"\n",
    "    input = np.stack(content_series.map(preprocess))\n",
    "    preds = model.predict(input)\n",
    "    # For some layers, output features will be multi-dimensional tensors.\n",
    "    # We flatten the feature tensors to vectors for easier storage in Spark DataFrames.\n",
    "    output = [p.flatten() for p in preds]\n",
    "    return pd.Series(output)\n",
    "\n",
    "@pandas_udf('array<float>', PandasUDFType.SCALAR_ITER)\n",
    "def featurize_udf(content_series_iter):\n",
    "    '''\n",
    "    This method is a Scalar Iterator pandas UDF wrapping our featurization function.\n",
    "    The decorator specifies that this returns a Spark DataFrame column of type ArrayType(FloatType).\n",
    "\n",
    "    :param content_series_iter: This argument is an iterator over batches of data, where each batch\n",
    "                              is a pandas Series of image data.\n",
    "    '''\n",
    "    # With Scalar Iterator pandas UDFs, we can load the model once and then re-use it\n",
    "    # for multiple data batches.  This amortizes the overhead of loading big models.\n",
    "    model = model_fn()\n",
    "    for content_series in content_series_iter:\n",
    "        yield featurize_series(model, content_series)"
   ]
  },
  {
   "cell_type": "markdown",
   "id": "f23206e8",
   "metadata": {},
   "source": [
    "#### 4.10.5.4 Exécutions des actions d'extractions de features\n",
    "\n",
    "Les Pandas UDF, sur de grands enregistrements (par exemple, de très grandes images), <br />\n",
    "peuvent rencontrer des erreurs de type Out Of Memory (OOM).<br />\n",
    "Si vous rencontrez de telles erreurs dans la cellule ci-dessous, <br />\n",
    "essayez de réduire la taille du lot Arrow via 'maxRecordsPerBatch'\n",
    "\n",
    "Je n'utiliserai pas cette commande dans ce projet <br />\n",
    "et je laisse donc la commande en commentaire."
   ]
  },
  {
   "cell_type": "code",
   "execution_count": 18,
   "id": "22d760c2",
   "metadata": {},
   "outputs": [
    {
     "data": {
      "application/vnd.jupyter.widget-view+json": {
       "model_id": "",
       "version_major": 2,
       "version_minor": 0
      },
      "text/plain": [
       "FloatProgress(value=0.0, bar_style='info', description='Progress:', layout=Layout(height='25px', width='50%'),…"
      ]
     },
     "metadata": {},
     "output_type": "display_data"
    }
   ],
   "source": [
    "# spark.conf.set(\"spark.sql.execution.arrow.maxRecordsPerBatch\", \"1024\")"
   ]
  },
  {
   "cell_type": "code",
   "execution_count": 19,
   "id": "5e07fd68",
   "metadata": {},
   "outputs": [
    {
     "data": {
      "application/vnd.jupyter.widget-view+json": {
       "model_id": "",
       "version_major": 2,
       "version_minor": 0
      },
      "text/plain": [
       "FloatProgress(value=0.0, bar_style='info', description='Progress:', layout=Layout(height='25px', width='50%'),…"
      ]
     },
     "metadata": {},
     "output_type": "display_data"
    }
   ],
   "source": [
    "features_df = images.repartition(24).select(col(\"path\"),\n",
    "                                            col(\"label\"),\n",
    "                                            featurize_udf(\"content\").alias(\"features\")\n",
    "                                           )"
   ]
  },
  {
   "cell_type": "code",
   "execution_count": 20,
   "id": "06a930b3",
   "metadata": {},
   "outputs": [
    {
     "data": {
      "application/vnd.jupyter.widget-view+json": {
       "model_id": "",
       "version_major": 2,
       "version_minor": 0
      },
      "text/plain": [
       "FloatProgress(value=0.0, bar_style='info', description='Progress:', layout=Layout(height='25px', width='50%'),…"
      ]
     },
     "metadata": {},
     "output_type": "display_data"
    },
    {
     "name": "stdout",
     "output_type": "stream",
     "text": [
      "22688"
     ]
    }
   ],
   "source": [
    "features_df.count()"
   ]
  },
  {
   "cell_type": "code",
   "execution_count": 19,
   "id": "7c53ddd5",
   "metadata": {},
   "outputs": [
    {
     "data": {
      "application/vnd.jupyter.widget-view+json": {
       "model_id": "",
       "version_major": 2,
       "version_minor": 0
      },
      "text/plain": [
       "FloatProgress(value=0.0, bar_style='info', description='Progress:', layout=Layout(height='25px', width='50%'),…"
      ]
     },
     "metadata": {},
     "output_type": "display_data"
    }
   ],
   "source": [
    "features_df.write.mode(\"overwrite\").parquet(PATH_Result)"
   ]
  },
  {
   "cell_type": "markdown",
   "id": "273088a3",
   "metadata": {},
   "source": [
    "#### 4.10.5.5 Reduction de dimension des features en appliquant une ACP"
   ]
  },
  {
   "cell_type": "code",
   "execution_count": 21,
   "id": "a67467cb",
   "metadata": {},
   "outputs": [
    {
     "data": {
      "application/vnd.jupyter.widget-view+json": {
       "model_id": "",
       "version_major": 2,
       "version_minor": 0
      },
      "text/plain": [
       "FloatProgress(value=0.0, bar_style='info', description='Progress:', layout=Layout(height='25px', width='50%'),…"
      ]
     },
     "metadata": {},
     "output_type": "display_data"
    },
    {
     "name": "stdout",
     "output_type": "stream",
     "text": [
      "root\n",
      " |-- path: string (nullable = true)\n",
      " |-- label: string (nullable = true)\n",
      " |-- features: array (nullable = true)\n",
      " |    |-- element: float (containsNull = true)"
     ]
    }
   ],
   "source": [
    "features_df.printSchema()"
   ]
  },
  {
   "cell_type": "code",
   "execution_count": 22,
   "id": "e7095ab9",
   "metadata": {},
   "outputs": [
    {
     "data": {
      "application/vnd.jupyter.widget-view+json": {
       "model_id": "",
       "version_major": 2,
       "version_minor": 0
      },
      "text/plain": [
       "FloatProgress(value=0.0, bar_style='info', description='Progress:', layout=Layout(height='25px', width='50%'),…"
      ]
     },
     "metadata": {},
     "output_type": "display_data"
    }
   ],
   "source": [
    "from pyspark.ml.linalg import Vectors, VectorUDT\n",
    "from pyspark.sql.functions import udf\n",
    "from pyspark.ml.feature import PCA\n",
    "from pyspark.ml.feature import StandardScaler"
   ]
  },
  {
   "cell_type": "code",
   "execution_count": 23,
   "id": "321811dd",
   "metadata": {},
   "outputs": [
    {
     "data": {
      "application/vnd.jupyter.widget-view+json": {
       "model_id": "",
       "version_major": 2,
       "version_minor": 0
      },
      "text/plain": [
       "FloatProgress(value=0.0, bar_style='info', description='Progress:', layout=Layout(height='25px', width='50%'),…"
      ]
     },
     "metadata": {},
     "output_type": "display_data"
    }
   ],
   "source": [
    "# Définir une fonction UDF pour convertir un tableau en un vecteur dense\n",
    "def array_to_dense_vector(arr):\n",
    "    return Vectors.dense(arr)\n",
    "\n",
    "# Enregistrez la fonction UDF\n",
    "array_to_dense_vector_udf = udf(array_to_dense_vector, VectorUDT())\n",
    "\n",
    "# Appliquer la fonction UDF pour convertir la colonne features en un vecteur dense\n",
    "features_dff = features_df.withColumn(\"features\", array_to_dense_vector_udf(features_df.features))"
   ]
  },
  {
   "cell_type": "raw",
   "id": "200c15f0",
   "metadata": {},
   "source": [
    "### Normalisez les données\n",
    "# Créez un objet StandardScaler\n",
    "scaler = StandardScaler(inputCol=\"features\", outputCol=\"scaled_features\", withStd=True, withMean=True)\n",
    "\n",
    "# Calculez les statistiques de résumé en ajustant le StandardScaler\n",
    "scaler_model = scaler.fit(features_dff)\n",
    "\n",
    "# Normalisez les caractéristiques\n",
    "scaled_df = scaler_model.transform(features_dff)"
   ]
  },
  {
   "cell_type": "raw",
   "id": "14cc9333",
   "metadata": {},
   "source": [
    "# Perform PCA\n",
    "pca = PCA(k=640, inputCol='scaled_features', outputCol='pca_features')\n",
    "pca_model = pca.fit(scaled_df)\n",
    "\n",
    "# Transform the data\n",
    "pca_features_df = pca_model.transform(scaled_df)\n",
    "\n",
    "# Obtenir les ébolies des valeurs propres\n",
    "explainedVariance = pca_model.explainedVariance"
   ]
  },
  {
   "cell_type": "code",
   "execution_count": 24,
   "id": "f8366030",
   "metadata": {},
   "outputs": [
    {
     "data": {
      "application/vnd.jupyter.widget-view+json": {
       "model_id": "",
       "version_major": 2,
       "version_minor": 0
      },
      "text/plain": [
       "FloatProgress(value=0.0, bar_style='info', description='Progress:', layout=Layout(height='25px', width='50%'),…"
      ]
     },
     "metadata": {},
     "output_type": "display_data"
    }
   ],
   "source": [
    "# Perform PCA\n",
    "pca = PCA(k=640, inputCol='features', outputCol='pca_features')\n",
    "pca_model = pca.fit(features_dff)\n",
    "\n",
    "# Transform the data\n",
    "pca_features_df = pca_model.transform(features_dff)\n",
    "\n",
    "# Obtenir les ébolies des valeurs propres\n",
    "explainedVariance = pca_model.explainedVariance"
   ]
  },
  {
   "cell_type": "markdown",
   "id": "0e97534d",
   "metadata": {},
   "source": [
    "#### Selection du nombre d'axe à conserver"
   ]
  },
  {
   "cell_type": "markdown",
   "id": "98ed9be3",
   "metadata": {},
   "source": [
    "- ébouli des valeurs propes"
   ]
  },
  {
   "cell_type": "code",
   "execution_count": 25,
   "id": "e5968141",
   "metadata": {},
   "outputs": [
    {
     "data": {
      "application/vnd.jupyter.widget-view+json": {
       "model_id": "",
       "version_major": 2,
       "version_minor": 0
      },
      "text/plain": [
       "FloatProgress(value=0.0, bar_style='info', description='Progress:', layout=Layout(height='25px', width='50%'),…"
      ]
     },
     "metadata": {},
     "output_type": "display_data"
    }
   ],
   "source": [
    "import matplotlib.pyplot as plt\n",
    "import matplotlib\n",
    "scree_cumsum_df = np.cumsum(explainedVariance)"
   ]
  },
  {
   "cell_type": "code",
   "execution_count": 26,
   "id": "a1e16d16",
   "metadata": {},
   "outputs": [
    {
     "data": {
      "application/vnd.jupyter.widget-view+json": {
       "model_id": "",
       "version_major": 2,
       "version_minor": 0
      },
      "text/plain": [
       "FloatProgress(value=0.0, bar_style='info', description='Progress:', layout=Layout(height='25px', width='50%'),…"
      ]
     },
     "metadata": {},
     "output_type": "display_data"
    }
   ],
   "source": [
    "plt.figure(figsize=(12,8))\n",
    "plt.xlabel(\"Number of principal components\")\n",
    "plt.ylabel(\"Percentage explained variance\")\n",
    "plt.title(\"Scree plot\")\n",
    "\n",
    "plt.plot(range(len(scree_cumsum_df)), scree_cumsum_df)\n",
    "plt.axhline(y=0.99, color='r', linestyle='--')\n",
    "plt.axhline(y=0.9, color='g', linestyle='--')\n",
    "plt.axhline(y=0.8, color='g', linestyle='--')\n",
    "\n",
    "plt.show()"
   ]
  },
  {
   "cell_type": "code",
   "execution_count": 38,
   "id": "1cb2a635",
   "metadata": {},
   "outputs": [
    {
     "data": {
      "application/vnd.jupyter.widget-view+json": {
       "model_id": "",
       "version_major": 2,
       "version_minor": 0
      },
      "text/plain": [
       "FloatProgress(value=0.0, bar_style='info', description='Progress:', layout=Layout(height='25px', width='50%'),…"
      ]
     },
     "metadata": {},
     "output_type": "display_data"
    },
    {
     "name": "stdout",
     "output_type": "stream",
     "text": [
      "Le seuil de 50% de variance expliqu? est atteint avec 13 composantes principales\n",
      "Le seuil de 60% de variance expliqu? est atteint avec 22 composantes principales\n",
      "Le seuil de 70% de variance expliqu? est atteint avec 40 composantes principales\n",
      "Le seuil de 80% de variance expliqu? est atteint avec 79 composantes principales\n",
      "Le seuil de 90% de variance expliqu? est atteint avec 184 composantes principales\n",
      "Le seuil de 99% de variance expliqu? est atteint avec 640 composantes principales"
     ]
    }
   ],
   "source": [
    "idx = [x+1 for x in range(len(scree_cumsum_df))]\n",
    "print(\"Le seuil de 50% de variance expliqué est atteint avec {} composantes principales\".format(np.max(np.array(idx)[scree_cumsum_df<=0.5])))\n",
    "print(\"Le seuil de 60% de variance expliqué est atteint avec {} composantes principales\".format(np.max(np.array(idx)[scree_cumsum_df<=0.6]) ))\n",
    "print(\"Le seuil de 70% de variance expliqué est atteint avec {} composantes principales\".format(np.max(np.array(idx)[scree_cumsum_df<=0.7]) ))\n",
    "print(\"Le seuil de 80% de variance expliqué est atteint avec {} composantes principales\".format(np.max(np.array(idx)[scree_cumsum_df<=0.8])))\n",
    "print(\"Le seuil de 90% de variance expliqué est atteint avec {} composantes principales\".format(np.max(np.array(idx)[scree_cumsum_df<=0.9]) ))\n",
    "print(\"Le seuil de 99% de variance expliqué est atteint avec {} composantes principales\".format(np.max(np.array(idx)[scree_cumsum_df<=0.99]) ))"
   ]
  },
  {
   "cell_type": "code",
   "execution_count": 27,
   "id": "626807c3",
   "metadata": {},
   "outputs": [
    {
     "data": {
      "application/vnd.jupyter.widget-view+json": {
       "model_id": "",
       "version_major": 2,
       "version_minor": 0
      },
      "text/plain": [
       "FloatProgress(value=0.0, bar_style='info', description='Progress:', layout=Layout(height='25px', width='50%'),…"
      ]
     },
     "metadata": {},
     "output_type": "display_data"
    },
    {
     "data": {
      "image/png": "[encoded data removed]",
      "text/plain": [
       "<IPython.core.display.Image object>"
      ]
     },
     "metadata": {},
     "output_type": "display_data"
    }
   ],
   "source": [
    "%matplot plt"
   ]
  },
  {
   "cell_type": "code",
   "execution_count": 40,
   "id": "d9281cfe",
   "metadata": {},
   "outputs": [
    {
     "data": {
      "application/vnd.jupyter.widget-view+json": {
       "model_id": "",
       "version_major": 2,
       "version_minor": 0
      },
      "text/plain": [
       "FloatProgress(value=0.0, bar_style='info', description='Progress:', layout=Layout(height='25px', width='50%'),…"
      ]
     },
     "metadata": {},
     "output_type": "display_data"
    }
   ],
   "source": [
    "# Perform PCA\n",
    "pca_best = PCA(k=184, inputCol='features', outputCol='pca_features')\n",
    "pca_best_model = pca_best.fit(features_dff)\n",
    "\n",
    "# Transform the data\n",
    "pca_best_features_df = pca_best_model.transform(features_dff)"
   ]
  },
  {
   "cell_type": "code",
   "execution_count": 41,
   "id": "65d09937",
   "metadata": {},
   "outputs": [
    {
     "data": {
      "application/vnd.jupyter.widget-view+json": {
       "model_id": "",
       "version_major": 2,
       "version_minor": 0
      },
      "text/plain": [
       "FloatProgress(value=0.0, bar_style='info', description='Progress:', layout=Layout(height='25px', width='50%'),…"
      ]
     },
     "metadata": {},
     "output_type": "display_data"
    },
    {
     "name": "stdout",
     "output_type": "stream",
     "text": [
      "+--------------------+--------------+--------------------+--------------------+\n",
      "|                path|         label|            features|        pca_features|\n",
      "+--------------------+--------------+--------------------+--------------------+\n",
      "|s3://kevinel-buck...|Pineapple Mini|[0.01539323758333...|[-5.4542178277729...|\n",
      "|s3://kevinel-buck...|    Watermelon|[0.0,0.9113100171...|[-2.5051596456404...|\n",
      "|s3://kevinel-buck...|Pineapple Mini|[0.0,4.5198941230...|[-6.4304588497723...|\n",
      "|s3://kevinel-buck...|   Cauliflower|[0.0,0.4295242130...|[-4.5937887207996...|\n",
      "|s3://kevinel-buck...|   Cauliflower|[0.0,0.0903867110...|[-5.1800649681473...|\n",
      "+--------------------+--------------+--------------------+--------------------+\n",
      "only showing top 5 rows"
     ]
    }
   ],
   "source": [
    "pca_best_features_df.show(5)"
   ]
  },
  {
   "cell_type": "code",
   "execution_count": 42,
   "id": "347cb343",
   "metadata": {},
   "outputs": [
    {
     "data": {
      "application/vnd.jupyter.widget-view+json": {
       "model_id": "",
       "version_major": 2,
       "version_minor": 0
      },
      "text/plain": [
       "FloatProgress(value=0.0, bar_style='info', description='Progress:', layout=Layout(height='25px', width='50%'),…"
      ]
     },
     "metadata": {},
     "output_type": "display_data"
    }
   ],
   "source": [
    "# save to csv\n",
    "from pyspark.sql.types import StringType\n",
    "format_udf = udf(lambda x: str(x), StringType()) \n",
    "\n",
    "df_csv = pca_best_features_df.select(\"path\",\"label\",\"pca_features\").withColumn('pca_features', format_udf(col('pca_features')))"
   ]
  },
  {
   "cell_type": "code",
   "execution_count": 44,
   "id": "246ba7c3",
   "metadata": {},
   "outputs": [
    {
     "data": {
      "application/vnd.jupyter.widget-view+json": {
       "model_id": "",
       "version_major": 2,
       "version_minor": 0
      },
      "text/plain": [
       "FloatProgress(value=0.0, bar_style='info', description='Progress:', layout=Layout(height='25px', width='50%'),…"
      ]
     },
     "metadata": {},
     "output_type": "display_data"
    },
    {
     "name": "stdout",
     "output_type": "stream",
     "text": [
      "+--------------------+----------+--------------------+\n",
      "|                path|     label|        pca_features|\n",
      "+--------------------+----------+--------------------+\n",
      "|s3://kevinel-buck...|Watermelon|[-3.6636958702155...|\n",
      "|s3://kevinel-buck...|Watermelon|[-1.8046526522991...|\n",
      "+--------------------+----------+--------------------+\n",
      "only showing top 2 rows"
     ]
    }
   ],
   "source": [
    "df_csv.show(2)"
   ]
  },
  {
   "cell_type": "code",
   "execution_count": null,
   "id": "fe86bbaa",
   "metadata": {},
   "outputs": [],
   "source": [
    "df_csv = pca_best_features_df.select(\"path\",\"label\",\"pca_features\").withColumn('pca_features', format_udf(col('pca_features')))"
   ]
  },
  {
   "cell_type": "code",
   "execution_count": 47,
   "id": "80ceeafa",
   "metadata": {},
   "outputs": [
    {
     "data": {
      "application/vnd.jupyter.widget-view+json": {
       "model_id": "",
       "version_major": 2,
       "version_minor": 0
      },
      "text/plain": [
       "FloatProgress(value=0.0, bar_style='info', description='Progress:', layout=Layout(height='25px', width='50%'),…"
      ]
     },
     "metadata": {},
     "output_type": "display_data"
    }
   ],
   "source": [
    "# one way\n",
    "df_csv.repartition(1).write.csv(PATH+\"/featuresImagReducted.csv\", sep='\\t')"
   ]
  },
  {
   "cell_type": "code",
   "execution_count": 45,
   "id": "efcdb625",
   "metadata": {},
   "outputs": [
    {
     "data": {
      "application/vnd.jupyter.widget-view+json": {
       "model_id": "",
       "version_major": 2,
       "version_minor": 0
      },
      "text/plain": [
       "FloatProgress(value=0.0, bar_style='info', description='Progress:', layout=Layout(height='25px', width='50%'),…"
      ]
     },
     "metadata": {},
     "output_type": "display_data"
    }
   ],
   "source": [
    "# an other way\n",
    "df_csv.write.mode(\"overwrite\").option(\"delimiter\", \"\\t\").option(\"header\",\"true\").csv(PATH_Result + \"_acp.csv\")"
   ]
  },
  {
   "cell_type": "code",
   "execution_count": 45,
   "id": "7cf4e18f",
   "metadata": {},
   "outputs": [
    {
     "data": {
      "application/vnd.jupyter.widget-view+json": {
       "model_id": "",
       "version_major": 2,
       "version_minor": 0
      },
      "text/plain": [
       "FloatProgress(value=0.0, bar_style='info', description='Progress:', layout=Layout(height='25px', width='50%'),…"
      ]
     },
     "metadata": {},
     "output_type": "display_data"
    }
   ],
   "source": [
    "df_csv.write.mode(\"overwrite\").option(\"delimiter\", \"\\t\").option(\"header\",\"true\").csv(PATH_Result + \"_acp.csv\")"
   ]
  },
  {
   "cell_type": "markdown",
   "id": "6daa5a23",
   "metadata": {},
   "source": [
    "</br>"
   ]
  },
  {
   "cell_type": "markdown",
   "id": "c53261bd",
   "metadata": {},
   "source": [
    "</br>"
   ]
  },
  {
   "cell_type": "code",
   "execution_count": 56,
   "id": "348a1f3a",
   "metadata": {},
   "outputs": [
    {
     "data": {
      "application/vnd.jupyter.widget-view+json": {
       "model_id": "",
       "version_major": 2,
       "version_minor": 0
      },
      "text/plain": [
       "FloatProgress(value=0.0, bar_style='info', description='Progress:', layout=Layout(height='25px', width='50%'),…"
      ]
     },
     "metadata": {},
     "output_type": "display_data"
    },
    {
     "name": "stdout",
     "output_type": "stream",
     "text": [
      "+--------------------+----------+--------------------+--------------------+\n",
      "|                path|     label|            features|        pca_features|\n",
      "+--------------------+----------+--------------------+--------------------+\n",
      "|s3://kevinel-buck...|Watermelon|[0.24856485426425...|[-3.6636958702155...|\n",
      "+--------------------+----------+--------------------+--------------------+\n",
      "only showing top 1 row"
     ]
    }
   ],
   "source": [
    "pca_best_features_df.persist()\n",
    "pca_best_features_df.show(1)"
   ]
  },
  {
   "cell_type": "code",
   "execution_count": 74,
   "id": "3dae480f",
   "metadata": {},
   "outputs": [
    {
     "data": {
      "application/vnd.jupyter.widget-view+json": {
       "model_id": "",
       "version_major": 2,
       "version_minor": 0
      },
      "text/plain": [
       "FloatProgress(value=0.0, bar_style='info', description='Progress:', layout=Layout(height='25px', width='50%'),…"
      ]
     },
     "metadata": {},
     "output_type": "display_data"
    },
    {
     "name": "stdout",
     "output_type": "stream",
     "text": [
      "+--------------------+--------------+--------------------+--------------------+-------------------+------------------+-------------------+-------------------+-------------------+------------------+-------------------+--------------------+------------------+-------------------+-------------------+-------------------+--------------------+------------------+-------------------+--------------------+-------------------+-------------------+-------------------+-------------------+-------------------+--------------------+------------------+-------------------+-------------------+------------------+-------------------+-------------------+-------------------+-------------------+-------------------+-------------------+------------------+-------------------+--------------------+-------------------+-------------------+-------------------+-------------------+-------------------+-------------------+------------------+-------------------+-------------------+--------------------+-------------------+-------------------+-------------------+-------------------+-------------------+-------------------+-------------------+------------------+--------------------+--------------------+--------------------+--------------------+------------------+------------------+-------------------+-------------------+-------------------+-------------------+--------------------+------------------+-------------------+-------------------+-------------------+--------------------+--------------------+-------------------+-------------------+-------------------+-------------------+-------------------+--------------------+--------------------+-------------------+-------------------+--------------------+-------------------+--------------------+-------------------+--------------------+------------------+--------------------+--------------------+-------------------+--------------------+--------------------+-------------------+-------------------+--------------------+-------------------+--------------------+--------------------+--------------------+--------------------+-------------------+--------------------+-------------------+--------------------+--------------------+--------------------+--------------------+--------------------+--------------------+--------------------+--------------------+--------------------+--------------------+-------------------+-------------------+--------------------+-------------------+--------------------+--------------------+--------------------+-------------------+-------------------+--------------------+-------------------+--------------------+-------------------+-------------------+--------------------+--------------------+--------------------+-------------------+--------------------+--------------------+-------------------+-------------------+-------------------+-------------------+-------------------+--------------------+--------------------+--------------------+--------------------+-------------------+--------------------+--------------------+------------------+--------------------+-------------------+-------------------+--------------------+-------------------+-------------------+--------------------+--------------------+--------------------+--------------------+--------------------+--------------------+--------------------+--------------------+--------------------+--------------------+--------------------+------------------+--------------------+-------------------+-------------------+--------------------+--------------------+-------------------+--------------------+--------------------+-------------------+--------------------+--------------------+-------------------+-------------------+--------------------+-------------------+--------------------+-------------------+-------------------+-------------------+--------------------+--------------------+--------------------+\n",
      "|                path|         label|            features|        pca_features|               col1|              col2|               col3|               col4|               col5|              col6|               col7|                col8|              col9|              col10|              col11|              col12|               col13|             col14|              col15|               col16|              col17|              col18|              col19|              col20|              col21|               col22|             col23|              col24|              col25|             col26|              col27|              col28|              col29|              col30|              col31|              col32|             col33|              col34|               col35|              col36|              col37|              col38|              col39|              col40|              col41|             col42|              col43|              col44|               col45|              col46|              col47|              col48|              col49|              col50|              col51|              col52|             col53|               col54|               col55|               col56|               col57|             col58|             col59|              col60|              col61|              col62|              col63|               col64|             col65|              col66|              col67|              col68|               col69|               col70|              col71|              col72|              col73|              col74|              col75|               col76|               col77|              col78|              col79|               col80|              col81|               col82|              col83|               col84|             col85|               col86|               col87|              col88|               col89|               col90|              col91|              col92|               col93|              col94|               col95|               col96|               col97|               col98|              col99|              col100|             col101|              col102|              col103|              col104|              col105|              col106|              col107|              col108|              col109|              col110|              col111|             col112|             col113|              col114|             col115|              col116|              col117|              col118|             col119|             col120|              col121|             col122|              col123|             col124|             col125|              col126|              col127|              col128|             col129|              col130|              col131|             col132|             col133|             col134|             col135|             col136|              col137|              col138|              col139|              col140|             col141|              col142|              col143|            col144|              col145|             col146|             col147|              col148|             col149|             col150|              col151|              col152|              col153|              col154|              col155|              col156|              col157|              col158|              col159|              col160|              col161|            col162|              col163|             col164|             col165|              col166|              col167|             col168|              col169|              col170|             col171|              col172|              col173|             col174|             col175|              col176|             col177|              col178|             col179|             col180|             col181|              col182|              col183|              col184|\n",
      "+--------------------+--------------+--------------------+--------------------+-------------------+------------------+-------------------+-------------------+-------------------+------------------+-------------------+--------------------+------------------+-------------------+-------------------+-------------------+--------------------+------------------+-------------------+--------------------+-------------------+-------------------+-------------------+-------------------+-------------------+--------------------+------------------+-------------------+-------------------+------------------+-------------------+-------------------+-------------------+-------------------+-------------------+-------------------+------------------+-------------------+--------------------+-------------------+-------------------+-------------------+-------------------+-------------------+-------------------+------------------+-------------------+-------------------+--------------------+-------------------+-------------------+-------------------+-------------------+-------------------+-------------------+-------------------+------------------+--------------------+--------------------+--------------------+--------------------+------------------+------------------+-------------------+-------------------+-------------------+-------------------+--------------------+------------------+-------------------+-------------------+-------------------+--------------------+--------------------+-------------------+-------------------+-------------------+-------------------+-------------------+--------------------+--------------------+-------------------+-------------------+--------------------+-------------------+--------------------+-------------------+--------------------+------------------+--------------------+--------------------+-------------------+--------------------+--------------------+-------------------+-------------------+--------------------+-------------------+--------------------+--------------------+--------------------+--------------------+-------------------+--------------------+-------------------+--------------------+--------------------+--------------------+--------------------+--------------------+--------------------+--------------------+--------------------+--------------------+--------------------+-------------------+-------------------+--------------------+-------------------+--------------------+--------------------+--------------------+-------------------+-------------------+--------------------+-------------------+--------------------+-------------------+-------------------+--------------------+--------------------+--------------------+-------------------+--------------------+--------------------+-------------------+-------------------+-------------------+-------------------+-------------------+--------------------+--------------------+--------------------+--------------------+-------------------+--------------------+--------------------+------------------+--------------------+-------------------+-------------------+--------------------+-------------------+-------------------+--------------------+--------------------+--------------------+--------------------+--------------------+--------------------+--------------------+--------------------+--------------------+--------------------+--------------------+------------------+--------------------+-------------------+-------------------+--------------------+--------------------+-------------------+--------------------+--------------------+-------------------+--------------------+--------------------+-------------------+-------------------+--------------------+-------------------+--------------------+-------------------+-------------------+-------------------+--------------------+--------------------+--------------------+\n",
      "|s3://kevinel-buck...|    Watermelon|[0.24856485426425...|[-3.6636958702155...|-3.6636958702155074|6.3304622232340515| -6.248615882891791| -4.080242359573745|  7.485043448550311| 5.560994493667179|  3.617665636729687|-0.32253940299015404|-10.76102135772918|0.36545107105463254|-1.1877972628757563| 2.1084592422099173|    -2.0525487077679| 6.981498541787502| 0.0715416358113581| -0.5133200279970035|  -5.23314736110891| 0.3935797657051214|-0.6200094484568413|  5.905098024395939| -0.505014126101794|-0.12177439945775413| 6.714803746177364|-0.9352384325691832| 1.6324362979109937|1.6659505228883518|  1.820913011242984|-2.6879856545187315| 2.3522842707470093| 0.9138129358345894| 3.8392350995654163| 1.3027208130077104| 2.385291193289478|-2.5180993535857414|  -1.062399583086348| -3.836727274656594|-0.4270778926350673|-0.7919122318010247|-0.5368690755988574|-3.3543333823204335|-0.4091930484911152| 2.723439100499955|-0.5325668109415074| 0.2113472630919911| -3.1854633225968194| 0.9002244750862605| 1.6301538730856868| -1.172771902779367|-0.9156167025620172|-2.9159026782911357| 0.6662494266378179|-5.4012588732896525|0.5452136116572589| -2.0779102256805153|  1.0106966013903116|  -1.075724075031839|  1.2161183249903125|1.1892360452606443|2.0593556859499103|-0.9001202779373304|-0.9640326140684349|0.04751477188807917| -2.065127534700417|-0.17225886615461958| 3.170219927905736|  0.478980395659245|-0.1961057657230548| 3.0267666237928426| -1.8718653129024534|-0.30194735068249573|  1.073246616959294|  1.055233544102859|  1.022440589114369| 0.8362341783116163|-0.2647987748813191| 0.15628878043676123|  0.9857518339273718|-1.9350366960734968| 0.8444333705902438| 0.27116631499375565|-1.9884167899997915|  0.1297619758997559| 1.2875338897182376| 0.47848326614430003|0.6489442988282034|-0.44057242092824617|  1.4407645255847947|-1.4618899849029783|-0.17069803113898913| -2.8943512580184065|  0.955310919785044|0.04216435860819526| -0.7716549325603622|0.12656561813596545|-0.13079247618933043|  0.6898602788138566| 0.20662431375990825|   -2.97530724653638|0.29416172064630963|-0.02053764236459352| -2.751537008594013| -1.2862430329397903|  0.4347831569290109|-0.00686581490525...|-0.09398802990914319| -0.6910806747536509|  0.9437894506443454|  1.4934688366776994|   0.597492801804341| -0.5828937363480678| -3.0170378806898217| 1.2437069780248087| 0.1881348306111887|   1.862547137555863| -0.898190770139399|-0.19483260619417606| -0.2042297667590223| -0.5981320199578175| -0.502254231198607|-0.9631743901825256|  0.1277331063675171|-0.1782415492403476| -1.7102455966322878|  1.012595598165352| 0.7757812999540522|-0.04549804417913...| 0.09007442245334343| -0.2232790923194688|-0.4012956943820949| 0.26159185401233764|-0.09603624010781149| 0.7689120964741234| 0.6048554962931564|-1.0771294855059836| 1.7146375976202979|-0.4549280546779641|  0.8305269619517346| 0.07486090820763192|  -0.563816145587272| 0.38561820055207763|0.07921777966297328| -1.4746046413104807|  1.7279268160633854|1.1021965967288525|   0.708137954688943| 1.1604348224302754|-0.5788098265775289|-0.21750745470319538|  1.164971181431016| -1.448955775149365|  0.9745644780550811| 0.14577406474993979| -0.2582688737342273|     1.1687812383309| -0.3974642269398621|  0.2859951531984815| -0.4427047304979582|-0.26536706772611285|  0.2629267994224238| -0.3042938545801507|  0.9372761016031663|1.0974365942281252|-0.23868127762776123|-0.7912507947818499|-0.4118372681630083|  0.8425212118406514|  0.6185134449110284| 0.2649992057299549| -0.8322643183426092|  0.8014135924529862| -0.717036675309105| -0.3340667474560749| -0.2672276655592672|0.33357849992636296| 0.1936099141865589| -0.7166741408466252|0.08132660145310053| -0.9042049479849754|-0.3031064852281302| 0.3119361958017617| 0.1457889867251891| -0.5421708079897174| 0.12496527442452399| 0.23965212575704176|\n",
      "|s3://kevinel-buck...|    Watermelon|[0.00337623083032...|[-1.8046526522991...|-1.8046526522991975|3.3591732109843178|-6.1659296483938695|-3.1154718368977403|  8.337249008087108|3.9092849088215647|  1.087790109313172|  1.3243088614156167|-9.607002563889242|   1.44443249044622| -3.920113599708028| 0.8653007226612792|  -1.198970904453778| 5.863391977635711|  2.815344970280341|-0.01411943909559...| -3.407515731986408|-0.7417204243071501| -1.837363247971994| 7.2143606787336125|0.10477534637260777|-0.47718903788188993| 9.121766083661202|0.35982385198270045| 0.2061215720349028| 2.646954454646451|  2.580893483130356|-3.7815141176138956| 1.7342572740162558|0.44066680777846906|  2.609796797706464| 2.6573497769502494|2.1823062291816893|-1.8914614115868493|-0.12072695923586166|-2.9574879509081473| 1.1593113705264553| 0.3333122343340009|0.49030346272608427| -2.693189538923081|  3.180451377122268|1.0281355691440386|-2.1782186607013894|-1.2202490885575563| -1.1885662608442218|-0.8088302399532404|-0.7544316762895124|-0.6753036824867918| 0.6799835764902167|-2.0408666172438235| 1.7248323587643979|-2.6866371254187023|1.5723459977105183|  -2.149780619576234|   0.862999877606987|   1.097066016434611|  0.8077155941321782| 1.085476842911342|2.8974902272897904| -0.788811022106268|-0.7419591289679486|  1.132139600547525|-2.3197701399113337| -0.9146369608732491| 1.625199890754343|-0.9713770478765553| -1.301251319878135| 1.3492906191942293| -0.9450167966037084| 0.11595221466456553|  1.619858993427251| 0.8661373138753582| 1.1880929959491595|-0.7294069509719947|-1.9057207295494303|  1.4618300909433897|  0.9151692234264841|-0.6556137501515704|0.24583976345848332|  1.4214994533047194| -1.429740441550203|  0.7951792549468759| 0.8610739983489355| 0.24905549310121336|1.8112471820494975| -0.3773157606305764|  1.0587405040693167| 0.3462082939801199|-0.27069381156814243| -0.7464697470490077|0.31298888769848476| 0.9175405959080827| -0.5724935456181264|  1.402165806233168| 0.19745795918348388| 0.17607307702748595|-0.19459639678278673| -0.7688301343874505|-0.4588112484458458| 0.14984440819739747|-0.6259869043580772| -1.0483012033010168| -0.5404074239392407|  0.2711595829979882|-0.14954405304542495|   -0.83524863180808|0.019046532958352954|   2.630122885270446|  0.0831327926508926|-0.05322444995209945|  -2.339286997939389| 1.1827838680865725| -1.068931964349947|  0.9591212501545796| -1.004708994313652| -1.1432363756382702|-0.02664749427104905| -0.6002809884391114|-0.8385309513917235| 1.0150909526823033| -0.5894771983504267| -0.958180094061764| 0.05485120307865488| 0.7549856933650705|0.40612926791189385|  0.5973428934179706|  0.8100921864780224| -0.5879806213304587| 0.3510750551804084|  0.2951991422676971|-0.48603559480743574|0.24842559252170465| 1.1303422195615067|-0.8599035665653424| 1.4210796674125086|0.22576320168567873|  0.7390905788226823|-0.48998307995625257|  0.5930327373959338| 0.30472553331251107| 0.2619367677947101| -0.6859031341422442|  0.1287747050635411|1.4234213436649326|  0.8860158179278302|0.30766125777042946|-0.8892983774396169| 0.19541062240427964| 0.5422620770792903|-2.1395197685241776|-0.33619773829969823| 0.14843460390334062| 0.21249466783802984|  0.3325552702285944|  0.0597150003672293|   0.536509903192975| -1.4513878724099378| 0.10088444066213419| -0.9828377459941147|-0.33803122161116084|-0.18746474328119134|0.6575232530756222| -0.7371075126318074|  1.233566906458507|0.38074531903097514|-0.21846435008427684| -0.5012039073301887|-0.8971538276795908| -0.7971731711412375|  0.8750436794892229|0.06848725970834871|  0.6204931515315224|  0.6000795163611347|0.15156502257698118| 0.7736576049534284| -0.9720212315855143| 0.6844857408003298| 0.33833685971579136| 0.8377508914945984| -0.414323710710517|0.23937280198271302|-0.16153645263768712|-0.11171067089245348|-0.01734879929140781|\n",
      "|s3://kevinel-buck...|Pineapple Mini|[0.0,4.7778182029...|[-5.4756053536588...|-5.4756053536588345|3.2038700420990662|  1.470960426414602| -3.113987517051136|-2.7693925727511957|2.2403460416754273|  2.311256644909754| -2.0209272285210598|-8.374755805036658|  4.232462809529922|-2.8322230050783492| 2.5422231103522006| 0.07764942085508009|-5.523938254416402|-2.5172628438077154|  1.3292598495055732|-0.5679787232983937|  2.207494502241276| 3.1311828172394067|-1.0011656791714603|-1.3355407444797733| 0.42556047264421903|3.3935698319660106|-1.6448253585412889| 0.5169679344812362| 4.698812030667765|-0.9825677453816438|-0.6331501873345414|  2.412352472756326| -3.038837267947908| 2.3483687637329593|-2.4052813659406973|1.4556369675451502|-2.6088633254699802|   0.298358457586017|-0.8727657829449171|-0.7035505985623146|-1.4448936408346091|-0.8980208031578709|-1.9591766588299653| 1.2761282361536956|0.4818969819336881|-3.2683192176883993| 0.8257707114049567|  -1.850279695013593| 0.2855097585266983|  -1.58532676322512|-0.5865466212140086| 1.0577346571077486|-0.4998324414986069| 0.7345926529250769| -4.074621994123447|3.2647784701375886|-0.11979495631031628|-0.20666809028183658|  0.7974943445449415|0.028077597850900225|0.5001382686919175|0.6839356947170963| 1.0197847173375643| -0.909206945344793| 1.2758212389354489| 0.3234923237579561| -1.2990579772372552|1.6316449289028805|-0.6590334637437396| 0.7935971139778295|   1.48051083183268|  -0.611641367270938|   1.327289257300214|-1.2530365396955083|-1.6111155955983474| 2.6016017759887413| 1.4404633066591916|-1.6181679139864795|-0.03929716379227...|0.016152982073585887| 1.5688549987960694|0.27288478872694305| 0.09552695930468377| 0.6450400742513446|  1.5728289080679734|-1.5855311168321842|   0.194416522834262|0.2032415366006245| -0.9729394382524438|  0.7570781014878244|  1.276164807449038| -1.1432598545154367|-0.21325244373669397|-0.6419171337681776| 0.5956585914604655| -0.9031616951328415| 0.9037724563828465| -0.7210423071898375| 0.41388829371604396|  0.9128413510050006|-0.08118732065022433| 0.8241023086473677|  0.9051989061165953|-0.9303792903266801|   0.383496828798972|-0.48218718366488844| -0.5771278293265854|   0.274792539480999|  1.0027152555425076|  0.6223481913840628| 0.09545511239230726| 0.27534053770704725|-0.31262053578176136| -1.6239543073368257| 0.5629251716665974| 0.7339368835284518|-0.04300138641571512| 0.5176976546422726|  -0.970750156423962| 0.36417324186300765|-0.17622935794868846|-0.7482970149281594| 0.7252271265013994| -0.2331087936323108| 0.1678103135695879|  0.6766958056364896|0.12011186929897363| 0.3285449928116001|   1.923729095069643|-0.22136840102428174|  0.8359937740420762|0.29938973558531207| 0.13559873085082802|-0.24059518038646643|   -1.3037620857619| 0.5485874084872305|-1.5495101410499277| 0.6828100089093889| 1.4409541164795636|  1.1461366746171866| -0.7407711624305474|  0.6346573419047855|-0.02077031858482744| 0.6317194686337056| -0.9012204793649079|-0.12677784664161582| 1.318717401758676|0.035533259964771816| 0.5941752182530504|-1.4702199230775435|-0.26885002824003384|0.41723012094529294|-1.5402126467191173| 0.31135953086293894|0.013655573297840225|  0.6257512486030375| 0.27390679507402943|-0.03672845138695...|  0.6841359309503289|0.015621112111678926|  1.3963784411397713| -0.2848804199438347| 0.07676796394986538|0.051059422224081365|0.4543710430990289| -0.6894437165546687|0.22319284106557338|-0.3664557554331284|-0.07403432367430612|  0.4128754577414533|  -1.56116517008303| -0.8149956023991417|  0.3893774599936896|-0.4812984975559752| -0.4232738108701644|0.016783537827553187| -0.478841825039886|0.02588187109484203|-0.17379269405178277| 0.8697239220049598|-0.33505220636785504|0.42842529705419286|0.39955619349188515|-0.5972925226598641| -0.7213931782827003|  0.4506074997561421|    0.18719131774715|\n",
      "|s3://kevinel-buck...|    Watermelon|[0.00668513029813...|[-3.1441707605478...|-3.1441707605478495| 4.433630602933477| -6.408488059416359| -5.147563323587197|  5.529016716734592|5.7982807478948235|-3.0508817491561326|    4.22572363824462|-8.162268049061806|  4.446601627368108| -4.192136053905609|-2.1971425472800825|-0.49902305375554706| 4.608924740879909|  3.545950019845624|  0.5513026793615801|-1.9961424615729877|  4.973158075542742|-0.4196096439396057| 12.807495135649448| 0.8516664193627073|  0.7744521589882515| 6.691795038220037|0.47768555020024767| -2.163666505055826|2.2357737128441633|  3.812287964286918| -2.840709179949722| 1.1599632381306135|  0.837482563659073|  5.457638516983389|  1.800712081745525|2.5265426571208662|-3.3716675058536256| -1.9087202369756926|-1.6063944341144307| 1.9712980027404656|0.43086004352359464| 1.2763033391011165|-1.8091578449135923|0.21662925604839392|0.3626359133843775|-2.8350204303513102|-1.9125550215628027| 0.34518713951524943| -3.162073025586083| 1.4930401546966687|  -1.60973525756757| 0.2690431986499031| 1.4158229323671252| 3.1731449406874432| -3.070073905551401|1.3908410427860036|  -3.145968606145312|  0.5741109876314182| -0.6265695271594761| -1.3777007196989979|1.3360078371186037|1.8098168834380024|-0.6796909459137819|-2.0046860327894023| 0.6904887556490226|-1.4007112437889315|  0.3130720043693306|-2.502869844382064|-0.7539152147318136|-1.5619343563966224|-0.2944293821995042|-0.25927881409339887|  0.1533494287868711|  1.649258528092832|  -0.39871146662127|0.05808386100933252|0.46750638181658627|-1.5191985006395379|   2.024025432763578|  0.7893081763207076| 0.4916637098993991|-0.6057149961740402|  1.2000832764451264|-1.5444453240511766|  0.5783017821497631|-0.6195655225973042|-0.34246782861200503|-1.125749269026163| -2.2229966273471464| -0.1366026027541235|  1.617892557439442| -0.6047155728367701|  0.5679467723180198|-0.8628094597907244| 1.7562879917175866|-0.49536784964636377| 1.0992018784227873|  0.3427399306137699|-0.21647418452714992|  0.8586717157893556| 0.25879804722484967| 0.8411144741582703|-0.05471609294030...|-1.6489040111146416|  0.6839065610891304|   -1.02968095199281|-0.39547098873248565|  0.5714494161017655|  0.5764254923809232|-0.01321630294162889|-0.11318835393638584| -0.3671101941278249| -1.3458951839970144|-0.16049997993405946|-1.5710723292576783|-1.3246415723556275|  0.6641249867381801|-0.5291729551436872|0.046299499319468015| -1.5162624103952322| 0.22111950193941768|0.28250243325873525| 0.7973443975991091|-0.02453381799696...| 0.5088966165703678| 0.10914277997223679|-0.8871479295494171|  1.321972768712009|0.015922454170394153| 0.09163255879428653|-0.10872085896571847|0.25029368815841146|-0.42294358232488416|   1.255957000456154|-0.6303609068238273| -0.238816214200055|-0.9595544333467102|  0.963678830895616|0.13833149442604467|-0.23123409246655732|-0.20567915025058425| -0.6365448343603848| -0.3143069526116493|-0.2761689450109541|-0.05478483771797056| -0.6772116340449883|1.1303283109748399|  0.7435675318558322|-0.4659624640524306| -0.621386139811438|  0.6048706454533018|0.38509441938187455|0.09089877597214112|  0.5733202877240963| 0.33837380815898316|-0.17120863524700167|-0.03221632859900975|  0.4705225527771559| 0.43148021327354813|-0.24020602515714382|  1.1927820724932021|-0.14619890510326655| -0.5556192813750981|-0.13582227407110875|1.3783656704995457|   -1.08519394347422| 1.0580244923945785|-1.0450304882791341| -0.5635677685231232|0.018394191726621212|-0.4488421681092453| -0.4186152783354357| 0.41430131515246654| 0.8113301069600377| -0.6400250259141425| -0.8110673532467915|-0.6093644992372348|0.41127215727777766| -0.2720608963326024| 0.4751587416323995| -0.6816563302117263|  0.405764366776354|0.34118727892660694| 0.2769608636179287|  0.2918927089245779|  0.2923269260849792| -0.1828129620357968|\n",
      "|s3://kevinel-buck...|     Raspberry|[0.14059144258499...|[0.73468848221924...|  0.734688482219249|  6.75313642349062| 3.2421526122618287| -9.684483326600256|-4.7747811874765915|3.5667703420959564|-1.5844415014849753|  5.4014185299168025|-7.605441840122264|  3.337983124052296|   -7.0449444957867| -1.417542245144893|0.031133147431686128| 6.337721780399677| -4.465942983665062| -3.5630563421888475| -8.125397108722638|  2.638655063710115| 0.9614238789843931|  3.255492617500375|-1.5033913169381272|-0.00940108685298...| 3.750827218778562|  -4.09235403874727|-1.3923132879980367| 3.399935352729486|-0.8630628650495444| 1.1162407308903584|-0.7649686670975991|-1.5846636931142781|-1.9596762571919624|  2.337768085369046| 3.002258041614739|-2.5963142931619285|-0.04576117896341661|-1.2884361145337238|0.09186206780620333|-1.6677623117283695| 0.6310734044654318| -1.043395449266637| 1.3736580745137754|1.5828515956979847|-1.8038972769024881| 0.5574478103486733|-0.20203275743218516|-0.7655516428919258| -2.154596502827896| -2.173293096591587|-1.8461741169268493|-1.8260463889401504|0.22214885178223426|-1.5047676587825973| 0.356632599502286| -1.6492704510895415|  0.9605015935942885|-0.27845638711591025|-0.16503696974763307| 2.420806730383688|2.7751712575806446| 0.3300995829866832| -2.636833209523594|  2.600844100214798|  -2.85241536517232|   1.069834063377109| 0.462179535620653| -2.047696234124756| 1.0294620267432446|  2.714841717933712|   1.650363891897314|    1.37746461538571| 0.6341575775929352|-3.0365736810518853|-0.7303512385807763| 1.3277859061112054| 1.1481865903538129| -0.5588711260699547|  1.6855165291265486|  1.076588507475574|-0.6231807567405683|-0.35643316107576867| 0.7199681821295616|-0.09416780862439897|-0.9297218230379599|  0.8712078880932562|0.8136621328654557| -0.9020525576883321|-0.11059910882006888| 0.3734523883184407| -0.5533316934814171| -0.5247366789251853|-0.7145609367153457|  1.702429307541312| -1.5854248314351629|  1.320916275951484|  0.4581778329283777|  -1.975967606326174|   1.223816934495694|-0.13860749447259096| 1.9142080786050968|-0.42142582791025146| -1.555267981494035|-0.16533610750926345| -1.4815458591616446|  0.5493292840040871|  0.2562079708079915|-0.29115432735447466|   1.964416931265417| 0.01884273948903909|-0.30231721840414777| -0.7827802991096287| -1.4417633466605113| 0.9749913587171934|0.18697771669243704|  1.9963848791591665| 0.6901058589139175|   0.092704599919895| -0.9806668762925161| -0.6522653490135351|-1.3575902426316995|0.07649916158358153| -0.8356716663959047|   0.51787470889961|0.022032218279470484| 0.5826785146068567|0.42566348262099546|  0.5427259101086088|  0.9744787947907352|  -1.199580421820674|-0.5472857170792421|  0.8567870529570938|-0.24640757521045106|0.40917168127904113|-0.2453020957505605|-1.2968841913403975|0.03434599439275579| 0.6102630862063139|   0.900921151677492| -0.9972018231468807|-0.01290248880859...|  0.7706963970914039| 0.5994209002874022|-0.11678322968935036| -0.6313926484736336|1.0054309086804085|  0.5283976417600781| 0.5345664105074447|0.01757032457081315| -0.3157016256361871| 1.5762639596587211|-0.2963768982738918|-0.17166017493906266|-0.02408152434492...|  0.6188584163476459|  0.9915682725789002|  0.5348829372974849|-0.06420300002252825| -0.5815760151325796|  1.3884122792517435| 0.28231264571009823| 0.05986010665843739|0.050201123085433536|1.2509089050058593|-0.16609524111494156|0.48439298857123786| 0.4660473805114707|-0.23051344955454958|  0.3238927174223318|-0.4753605442864788|-0.34444054474866304|-0.08589864307540092|  0.294102478161691|-0.12013207855274195|-0.08538874184466681|0.10456323256495642| 0.5718994111006794|  -0.678566661295602| 0.9534413430434119|  0.7026200894112331|-0.9155620157905445| 0.8458100689734397|-0.3450660439507912| -0.3550096451055975| 0.06252267885040577| 0.42322709706410305|\n",
      "+--------------------+--------------+--------------------+--------------------+-------------------+------------------+-------------------+-------------------+-------------------+------------------+-------------------+--------------------+------------------+-------------------+-------------------+-------------------+--------------------+------------------+-------------------+--------------------+-------------------+-------------------+-------------------+-------------------+-------------------+--------------------+------------------+-------------------+-------------------+------------------+-------------------+-------------------+-------------------+-------------------+-------------------+-------------------+------------------+-------------------+--------------------+-------------------+-------------------+-------------------+-------------------+-------------------+-------------------+------------------+-------------------+-------------------+--------------------+-------------------+-------------------+-------------------+-------------------+-------------------+-------------------+-------------------+------------------+--------------------+--------------------+--------------------+--------------------+------------------+------------------+-------------------+-------------------+-------------------+-------------------+--------------------+------------------+-------------------+-------------------+-------------------+--------------------+--------------------+-------------------+-------------------+-------------------+-------------------+-------------------+--------------------+--------------------+-------------------+-------------------+--------------------+-------------------+--------------------+-------------------+--------------------+------------------+--------------------+--------------------+-------------------+--------------------+--------------------+-------------------+-------------------+--------------------+-------------------+--------------------+--------------------+--------------------+--------------------+-------------------+--------------------+-------------------+--------------------+--------------------+--------------------+--------------------+--------------------+--------------------+--------------------+--------------------+--------------------+--------------------+-------------------+-------------------+--------------------+-------------------+--------------------+--------------------+--------------------+-------------------+-------------------+--------------------+-------------------+--------------------+-------------------+-------------------+--------------------+--------------------+--------------------+-------------------+--------------------+--------------------+-------------------+-------------------+-------------------+-------------------+-------------------+--------------------+--------------------+--------------------+--------------------+-------------------+--------------------+--------------------+------------------+--------------------+-------------------+-------------------+--------------------+-------------------+-------------------+--------------------+--------------------+--------------------+--------------------+--------------------+--------------------+--------------------+--------------------+--------------------+--------------------+--------------------+------------------+--------------------+-------------------+-------------------+--------------------+--------------------+-------------------+--------------------+--------------------+-------------------+--------------------+--------------------+-------------------+-------------------+--------------------+-------------------+--------------------+-------------------+-------------------+-------------------+--------------------+--------------------+--------------------+\n",
      "only showing top 5 rows"
     ]
    }
   ],
   "source": [
    "from pyspark.ml.functions import vector_to_array\n",
    "\n",
    "df_matrix_pca = pca_best_features_df.withColumn(\"pca_features_tmp\",vector_to_array(\"pca_features\"))\n",
    "\n",
    "num_columns = 184\n",
    "columns = [f\"col{i + 1}\" for i in range(num_columns)]\n",
    "\n",
    "\n",
    "# Sélectionnez les éléments du tableau en tant que colonnes dans le DataFrame\n",
    "for i in range(num_columns):\n",
    "    df_matrix_pca = df_matrix_pca.withColumn(columns[i], df_matrix_pca.pca_features_tmp[i])\n",
    "    \n",
    "df_matrix_pca = df_matrix_pca.drop('pca_features_tmp')"
   ]
  },
  {
   "cell_type": "raw",
   "id": "3829af10",
   "metadata": {},
   "source": [
    "from pyspark.sql.functions import split, regexp_replace\n",
    "from pyspark.sql.types import ArrayType, StringType\n",
    "\n",
    "# Supprimez les crochets et divisez la chaîne en colonnes\n",
    "df_matrix_pca = pca_best_features_df.select(\"path\",\"label\",\"pca_features\")\\\n",
    "    .withColumn('pca_features', format_udf(col('pca_features')))\\\n",
    "    .withColumn(\"pca_features\", regexp_replace(\"pca_features\", r\"[\\[\\]]\", \"\")) \\\n",
    "    .withColumn(\"feature_array\", split(\"pca_features\", \", \")) \n",
    "\n",
    "num_columns = 184\n",
    "columns = [f\"col{i + 1}\" for i in range(num_columns)]\n",
    "\n",
    "# Sélectionnez les éléments du tableau en tant que colonnes dans le DataFrame\n",
    "for i in range(num_columns):\n",
    "    df_matrix_pca = df_matrix_pca.withColumn(columns[i], df_matrix_pca.feature_array[i].cast(\"double\"))\n",
    "\n",
    "# Supprimez la colonne temporaire 'feature_array'\n",
    "df_matrix_pca = df_matrix_pca.drop(\"feature_array\")\n",
    "    \n",
    "# Affichez le DataFrame Spark résultant\n",
    "df_matrix_pca.show(2)"
   ]
  },
  {
   "cell_type": "code",
   "execution_count": 76,
   "id": "4fd2919c",
   "metadata": {},
   "outputs": [
    {
     "data": {
      "application/vnd.jupyter.widget-view+json": {
       "model_id": "",
       "version_major": 2,
       "version_minor": 0
      },
      "text/plain": [
       "FloatProgress(value=0.0, bar_style='info', description='Progress:', layout=Layout(height='25px', width='50%'),…"
      ]
     },
     "metadata": {},
     "output_type": "display_data"
    },
    {
     "name": "stdout",
     "output_type": "stream",
     "text": [
      "root\n",
      " |-- path: string (nullable = true)\n",
      " |-- label: string (nullable = true)\n",
      " |-- features: vector (nullable = true)\n",
      " |-- pca_features: vector (nullable = true)\n",
      " |-- col1: double (nullable = true)\n",
      " |-- col2: double (nullable = true)\n",
      " |-- col3: double (nullable = true)\n",
      " |-- col4: double (nullable = true)\n",
      " |-- col5: double (nullable = true)\n",
      " |-- col6: double (nullable = true)\n",
      " |-- col7: double (nullable = true)\n",
      " |-- col8: double (nullable = true)\n",
      " |-- col9: double (nullable = true)\n",
      " |-- col10: double (nullable = true)\n",
      " |-- col11: double (nullable = true)\n",
      " |-- col12: double (nullable = true)\n",
      " |-- col13: double (nullable = true)\n",
      " |-- col14: double (nullable = true)\n",
      " |-- col15: double (nullable = true)\n",
      " |-- col16: double (nullable = true)\n",
      " |-- col17: double (nullable = true)\n",
      " |-- col18: double (nullable = true)\n",
      " |-- col19: double (nullable = true)\n",
      " |-- col20: double (nullable = true)\n",
      " |-- col21: double (nullable = true)\n",
      " |-- col22: double (nullable = true)\n",
      " |-- col23: double (nullable = true)\n",
      " |-- col24: double (nullable = true)\n",
      " |-- col25: double (nullable = true)\n",
      " |-- col26: double (nullable = true)\n",
      " |-- col27: double (nullable = true)\n",
      " |-- col28: double (nullable = true)\n",
      " |-- col29: double (nullable = true)\n",
      " |-- col30: double (nullable = true)\n",
      " |-- col31: double (nullable = true)\n",
      " |-- col32: double (nullable = true)\n",
      " |-- col33: double (nullable = true)\n",
      " |-- col34: double (nullable = true)\n",
      " |-- col35: double (nullable = true)\n",
      " |-- col36: double (nullable = true)\n",
      " |-- col37: double (nullable = true)\n",
      " |-- col38: double (nullable = true)\n",
      " |-- col39: double (nullable = true)\n",
      " |-- col40: double (nullable = true)\n",
      " |-- col41: double (nullable = true)\n",
      " |-- col42: double (nullable = true)\n",
      " |-- col43: double (nullable = true)\n",
      " |-- col44: double (nullable = true)\n",
      " |-- col45: double (nullable = true)\n",
      " |-- col46: double (nullable = true)\n",
      " |-- col47: double (nullable = true)\n",
      " |-- col48: double (nullable = true)\n",
      " |-- col49: double (nullable = true)\n",
      " |-- col50: double (nullable = true)\n",
      " |-- col51: double (nullable = true)\n",
      " |-- col52: double (nullable = true)\n",
      " |-- col53: double (nullable = true)\n",
      " |-- col54: double (nullable = true)\n",
      " |-- col55: double (nullable = true)\n",
      " |-- col56: double (nullable = true)\n",
      " |-- col57: double (nullable = true)\n",
      " |-- col58: double (nullable = true)\n",
      " |-- col59: double (nullable = true)\n",
      " |-- col60: double (nullable = true)\n",
      " |-- col61: double (nullable = true)\n",
      " |-- col62: double (nullable = true)\n",
      " |-- col63: double (nullable = true)\n",
      " |-- col64: double (nullable = true)\n",
      " |-- col65: double (nullable = true)\n",
      " |-- col66: double (nullable = true)\n",
      " |-- col67: double (nullable = true)\n",
      " |-- col68: double (nullable = true)\n",
      " |-- col69: double (nullable = true)\n",
      " |-- col70: double (nullable = true)\n",
      " |-- col71: double (nullable = true)\n",
      " |-- col72: double (nullable = true)\n",
      " |-- col73: double (nullable = true)\n",
      " |-- col74: double (nullable = true)\n",
      " |-- col75: double (nullable = true)\n",
      " |-- col76: double (nullable = true)\n",
      " |-- col77: double (nullable = true)\n",
      " |-- col78: double (nullable = true)\n",
      " |-- col79: double (nullable = true)\n",
      " |-- col80: double (nullable = true)\n",
      " |-- col81: double (nullable = true)\n",
      " |-- col82: double (nullable = true)\n",
      " |-- col83: double (nullable = true)\n",
      " |-- col84: double (nullable = true)\n",
      " |-- col85: double (nullable = true)\n",
      " |-- col86: double (nullable = true)\n",
      " |-- col87: double (nullable = true)\n",
      " |-- col88: double (nullable = true)\n",
      " |-- col89: double (nullable = true)\n",
      " |-- col90: double (nullable = true)\n",
      " |-- col91: double (nullable = true)\n",
      " |-- col92: double (nullable = true)\n",
      " |-- col93: double (nullable = true)\n",
      " |-- col94: double (nullable = true)\n",
      " |-- col95: double (nullable = true)\n",
      " |-- col96: double (nullable = true)\n",
      " |-- col97: double (nullable = true)\n",
      " |-- col98: double (nullable = true)\n",
      " |-- col99: double (nullable = true)\n",
      " |-- col100: double (nullable = true)\n",
      " |-- col101: double (nullable = true)\n",
      " |-- col102: double (nullable = true)\n",
      " |-- col103: double (nullable = true)\n",
      " |-- col104: double (nullable = true)\n",
      " |-- col105: double (nullable = true)\n",
      " |-- col106: double (nullable = true)\n",
      " |-- col107: double (nullable = true)\n",
      " |-- col108: double (nullable = true)\n",
      " |-- col109: double (nullable = true)\n",
      " |-- col110: double (nullable = true)\n",
      " |-- col111: double (nullable = true)\n",
      " |-- col112: double (nullable = true)\n",
      " |-- col113: double (nullable = true)\n",
      " |-- col114: double (nullable = true)\n",
      " |-- col115: double (nullable = true)\n",
      " |-- col116: double (nullable = true)\n",
      " |-- col117: double (nullable = true)\n",
      " |-- col118: double (nullable = true)\n",
      " |-- col119: double (nullable = true)\n",
      " |-- col120: double (nullable = true)\n",
      " |-- col121: double (nullable = true)\n",
      " |-- col122: double (nullable = true)\n",
      " |-- col123: double (nullable = true)\n",
      " |-- col124: double (nullable = true)\n",
      " |-- col125: double (nullable = true)\n",
      " |-- col126: double (nullable = true)\n",
      " |-- col127: double (nullable = true)\n",
      " |-- col128: double (nullable = true)\n",
      " |-- col129: double (nullable = true)\n",
      " |-- col130: double (nullable = true)\n",
      " |-- col131: double (nullable = true)\n",
      " |-- col132: double (nullable = true)\n",
      " |-- col133: double (nullable = true)\n",
      " |-- col134: double (nullable = true)\n",
      " |-- col135: double (nullable = true)\n",
      " |-- col136: double (nullable = true)\n",
      " |-- col137: double (nullable = true)\n",
      " |-- col138: double (nullable = true)\n",
      " |-- col139: double (nullable = true)\n",
      " |-- col140: double (nullable = true)\n",
      " |-- col141: double (nullable = true)\n",
      " |-- col142: double (nullable = true)\n",
      " |-- col143: double (nullable = true)\n",
      " |-- col144: double (nullable = true)\n",
      " |-- col145: double (nullable = true)\n",
      " |-- col146: double (nullable = true)\n",
      " |-- col147: double (nullable = true)\n",
      " |-- col148: double (nullable = true)\n",
      " |-- col149: double (nullable = true)\n",
      " |-- col150: double (nullable = true)\n",
      " |-- col151: double (nullable = true)\n",
      " |-- col152: double (nullable = true)\n",
      " |-- col153: double (nullable = true)\n",
      " |-- col154: double (nullable = true)\n",
      " |-- col155: double (nullable = true)\n",
      " |-- col156: double (nullable = true)\n",
      " |-- col157: double (nullable = true)\n",
      " |-- col158: double (nullable = true)\n",
      " |-- col159: double (nullable = true)\n",
      " |-- col160: double (nullable = true)\n",
      " |-- col161: double (nullable = true)\n",
      " |-- col162: double (nullable = true)\n",
      " |-- col163: double (nullable = true)\n",
      " |-- col164: double (nullable = true)\n",
      " |-- col165: double (nullable = true)\n",
      " |-- col166: double (nullable = true)\n",
      " |-- col167: double (nullable = true)\n",
      " |-- col168: double (nullable = true)\n",
      " |-- col169: double (nullable = true)\n",
      " |-- col170: double (nullable = true)\n",
      " |-- col171: double (nullable = true)\n",
      " |-- col172: double (nullable = true)\n",
      " |-- col173: double (nullable = true)\n",
      " |-- col174: double (nullable = true)\n",
      " |-- col175: double (nullable = true)\n",
      " |-- col176: double (nullable = true)\n",
      " |-- col177: double (nullable = true)\n",
      " |-- col178: double (nullable = true)\n",
      " |-- col179: double (nullable = true)\n",
      " |-- col180: double (nullable = true)\n",
      " |-- col181: double (nullable = true)\n",
      " |-- col182: double (nullable = true)\n",
      " |-- col183: double (nullable = true)\n",
      " |-- col184: double (nullable = true)"
     ]
    }
   ],
   "source": [
    "df_matrix_pca.printSchema()"
   ]
  },
  {
   "cell_type": "code",
   "execution_count": 80,
   "id": "80007cbd",
   "metadata": {},
   "outputs": [
    {
     "data": {
      "application/vnd.jupyter.widget-view+json": {
       "model_id": "",
       "version_major": 2,
       "version_minor": 0
      },
      "text/plain": [
       "FloatProgress(value=0.0, bar_style='info', description='Progress:', layout=Layout(height='25px', width='50%'),…"
      ]
     },
     "metadata": {},
     "output_type": "display_data"
    }
   ],
   "source": [
    "# one way\n",
    "df_matrix_pca.withColumn(\"pca_features\", df_matrix_pca.pca_features.cast(\"string\"))\\\n",
    ".withColumn(\"features\", df_matrix_pca.features.cast(\"string\"))\\\n",
    ".repartition(1)\\\n",
    ".write.mode(\"overwrite\").option(\"header\",\"true\").csv(PATH+\"/featuresImagReductedmatrix.csv\", sep='\\t')"
   ]
  },
  {
   "cell_type": "markdown",
   "id": "c0d513b7",
   "metadata": {},
   "source": [
    "</br>"
   ]
  },
  {
   "cell_type": "markdown",
   "id": "577500a1",
   "metadata": {},
   "source": [
    "</br>"
   ]
  },
  {
   "cell_type": "markdown",
   "id": "04814d28",
   "metadata": {},
   "source": [
    "</br>"
   ]
  },
  {
   "cell_type": "markdown",
   "id": "1fe01b72",
   "metadata": {},
   "source": [
    "### 4.10.6 Chargement des données enregistrées et validation du résultat"
   ]
  },
  {
   "cell_type": "code",
   "execution_count": 7,
   "id": "db18a784",
   "metadata": {},
   "outputs": [
    {
     "data": {
      "application/vnd.jupyter.widget-view+json": {
       "model_id": "",
       "version_major": 2,
       "version_minor": 0
      },
      "text/plain": [
       "FloatProgress(value=0.0, bar_style='info', description='Progress:', layout=Layout(height='25px', width='50%'),…"
      ]
     },
     "metadata": {},
     "output_type": "display_data"
    }
   ],
   "source": [
    "df = pd.read_parquet(PATH_Result, engine='pyarrow')"
   ]
  },
  {
   "cell_type": "code",
   "execution_count": 8,
   "id": "d750d2a8",
   "metadata": {},
   "outputs": [
    {
     "data": {
      "application/vnd.jupyter.widget-view+json": {
       "model_id": "",
       "version_major": 2,
       "version_minor": 0
      },
      "text/plain": [
       "FloatProgress(value=0.0, bar_style='info', description='Progress:', layout=Layout(height='25px', width='50%'),…"
      ]
     },
     "metadata": {},
     "output_type": "display_data"
    },
    {
     "name": "stdout",
     "output_type": "stream",
     "text": [
      "                                                path  ...                                           features\n",
      "0  s3://kevinel-bucketaws-ocds-p8/Test/Watermelon...  ...  [0.24856485, 0.37696606, 0.0, 0.04572805, 0.29...\n",
      "1  s3://kevinel-bucketaws-ocds-p8/Test/Watermelon...  ...  [0.0033762308, 0.64489573, 0.014761691, 0.0, 1...\n",
      "2  s3://kevinel-bucketaws-ocds-p8/Test/Watermelon...  ...  [0.0, 0.91131, 0.0, 0.0068203965, 1.9110236, 0...\n",
      "3  s3://kevinel-bucketaws-ocds-p8/Test/Pineapple ...  ...  [0.0, 4.519894, 0.0, 0.0, 0.0, 0.0, 0.3275102,...\n",
      "4  s3://kevinel-bucketaws-ocds-p8/Test/Cauliflowe...  ...  [0.0, 0.09038671, 1.9601653, 0.0, 0.02784841, ...\n",
      "\n",
      "[5 rows x 3 columns]"
     ]
    }
   ],
   "source": [
    "df.head()"
   ]
  },
  {
   "cell_type": "code",
   "execution_count": 9,
   "id": "b29205ff",
   "metadata": {},
   "outputs": [
    {
     "data": {
      "application/vnd.jupyter.widget-view+json": {
       "model_id": "",
       "version_major": 2,
       "version_minor": 0
      },
      "text/plain": [
       "FloatProgress(value=0.0, bar_style='info', description='Progress:', layout=Layout(height='25px', width='50%'),…"
      ]
     },
     "metadata": {},
     "output_type": "display_data"
    },
    {
     "name": "stdout",
     "output_type": "stream",
     "text": [
      "(1280,)"
     ]
    }
   ],
   "source": [
    "df.loc[0,'features'].shape"
   ]
  },
  {
   "cell_type": "code",
   "execution_count": 10,
   "id": "4fba6455",
   "metadata": {},
   "outputs": [
    {
     "data": {
      "application/vnd.jupyter.widget-view+json": {
       "model_id": "",
       "version_major": 2,
       "version_minor": 0
      },
      "text/plain": [
       "FloatProgress(value=0.0, bar_style='info', description='Progress:', layout=Layout(height='25px', width='50%'),…"
      ]
     },
     "metadata": {},
     "output_type": "display_data"
    },
    {
     "name": "stdout",
     "output_type": "stream",
     "text": [
      "(22688, 3)"
     ]
    }
   ],
   "source": [
    "df.shape"
   ]
  },
  {
   "cell_type": "code",
   "execution_count": 14,
   "id": "1ec869f9",
   "metadata": {},
   "outputs": [
    {
     "data": {
      "application/vnd.jupyter.widget-view+json": {
       "model_id": "",
       "version_major": 2,
       "version_minor": 0
      },
      "text/plain": [
       "FloatProgress(value=0.0, bar_style='info', description='Progress:', layout=Layout(height='25px', width='50%'),…"
      ]
     },
     "metadata": {},
     "output_type": "display_data"
    }
   ],
   "source": [
    "df.to_csv(\"s3://kevinel-bucketaws-ocds-p8/export_features_img.csv\")"
   ]
  },
  {
   "cell_type": "code",
   "execution_count": 13,
   "id": "e4c1b344",
   "metadata": {},
   "outputs": [
    {
     "data": {
      "text/plain": [
       "['jupyterhub_cookie_secret',\n",
       " 'jupyterhub.sqlite',\n",
       " 'jupyterhub-proxy.pid',\n",
       " '.cache',\n",
       " '.local',\n",
       " '.ipynb_checkpoints',\n",
       " '.ipython',\n",
       " '.sparkmagic',\n",
       " '.autovizwidget',\n",
       " '.config']"
      ]
     },
     "execution_count": 13,
     "metadata": {},
     "output_type": "execute_result"
    }
   ],
   "source": [
    "%%local\n",
    "import os\n",
    "os.listdir()"
   ]
  },
  {
   "cell_type": "markdown",
   "id": "72974aab",
   "metadata": {},
   "source": [
    "<u>On peut également constater la présence des fichiers <br />\n",
    "    au format \"**parquet**\" sur le **serveur S3**</u> :\n",
    "\n",
    "![Affichage des résultats sur S3](img/S3_Results.png)\n",
    "\n",
    "## 4.11 Suivi de l'avancement des tâches avec le Serveur d'Historique Spark\n",
    "\n",
    "Il est possible de voir l'avancement des tâches en cours <br />\n",
    "avec le **serveur d'historique Spark**.\n",
    "\n",
    "![Accès au serveur d'historique spark](img/EMR_serveur_historique_spark_acces.png)\n",
    "\n",
    "**Il est également possible de revenir et d'étudier les tâches <br />\n",
    "qui ont été réalisé, afin de debugger, optimiser les futurs <br />\n",
    "tâches à réaliser.**\n",
    "\n",
    "<u>Lorsque la commande \"**features_df.write.mode(\"overwrite\").parquet(PATH_Result)**\" <br />\n",
    "était en cours, nous pouvions observer son état d'avancement</u> :\n",
    "\n",
    "![Progression execution script](img/EMR_jupyterhub_avancement.png)\n",
    "\n",
    "<u>Le **serveur d'historique Spark** nous permet une vision beaucoup plus précise <br />\n",
    "de l'exécution des différentes tâche sur les différentes machines du cluster</u> :\n",
    "\n",
    "![Suivi des tâches spark](img/EMR_SHSpark_01.png)\n",
    "\n",
    "On peut également constater que notre cluster de calcul a mis <br />\n",
    "un tout petit peu **moins de 8 minutes** pour traiter les **22 688 images**.\n",
    "\n",
    "![Temps de traitement](img/EMR_SHSpark_02.png)\n"
   ]
  },
  {
   "cell_type": "markdown",
   "id": "b22d65bf",
   "metadata": {},
   "source": [
    "## 4.12 Résiliation de l'instance EMR\n",
    "\n",
    "Notre travail est maintenant terminé. <br />\n",
    "Le cluster de machines EMR est **facturé à la demande**, <br />\n",
    "et nous continuons d'être facturé même lorsque <br />\n",
    "les machines sont au repos.<br />\n",
    "Pour **optimiser la facturation**, il nous faut <br />\n",
    "maintenant **résilier le cluster**.\n",
    "\n",
    "<u>Je réalise cette commande depuis l'interface AWS</u> :\n",
    "\n",
    "1. Commencez par **désactiver le tunnel ssh dans FoxyProxy** pour éviter des problèmes de **timeout**.\n",
    "![Désactivation de FoxyProxy](img/EMR_foxyproxy_desactivation.png)\n",
    "2. Cliquez sur \"**Résilier**\"\n",
    "![Cliquez sur Résilier](img/EMR_resiliation_01.png)\n",
    "3. Confirmez la résiliation\n",
    "![Confirmez la résiliation](img/EMR_resiliation_02.png)\n",
    "4. La résiliation prend environ **1 minute**\n",
    "![Résiliation en cours](img/EMR_resiliation_03.png)\n",
    "5. La résiliation est effectuée\n",
    "![Résiliation terminée](img/EMR_resiliation_04.png)\n",
    "\n",
    "## 4.13 Cloner le serveur EMR (si besoin)\n",
    "\n",
    "Si nous devons de nouveau exécuter notre notebook dans les mêmes conditions, <br />\n",
    "il nous suffit de **cloner notre cluster** et ainsi en obtenir une copie fonctionnelle <br />\n",
    "sous 15/20 minutes, le temps de son instanciation.\n",
    "\n",
    "<u>Pour cela deux solutions</u> :\n",
    "1. <u>Depuis l'interface AWS</u> :\n",
    " 1. Cliquez sur \"**Cloner**\"\n",
    "   ![Cloner un cluster](img/EMR_cloner_01.png)\n",
    " 2. Dans notre cas nous ne souhaitons pas inclure d'étapes\n",
    "   ![Ne pas inclure d'étapes](img/EMR_cloner_02.png)\n",
    " 3. La configuration du cluster est recréée à l’identique. <br />\n",
    "    On peut revenir sur les différentes étapes si on souhaite apporter des modifications<br />\n",
    "    Quand tout est prêt, cliquez sur \"**Créer un cluster**\"\n",
    "  ![Vérification/Modification/Créer un cluster](img/EMR_cloner_03.png)\n",
    "2. <u>En ligne de commande</u> (avec AWS CLI d'installé et de configuré et en s'assurant <br />\n",
    "   de s'attribuer les droits nécessaires sur le compte AMI utilisé)\n",
    " 1. Cliquez sur \"**Exporter AWS CLI**\"\n",
    " ![Exporter AWS CLI](img/EMR_cloner_cli_01.png)\n",
    " 2. Copier/Coller la commande **depuis un terminal**\n",
    " ![Copier Coller Commande](img/EMR_cloner_cli_02.png)\n",
    "\n",
    "## 4.14 Arborescence du serveur S3 à la fin du projet\n",
    "\n",
    "<u>Pour information, voici **l'arborescence complète de mon bucket S3 p8-data** à la fin du projet</u> : <br />\n",
    "*Par soucis de lisibilité, je ne liste pas les 131 sous dossiers du répertoire \"Test\"*\n",
    "\n",
    "1. Results/_SUCCESS\n",
    "1. Results/part-00000-2cc36f38-19ef-4d8a-a0d1-5ddb309b3894-c000.snappy.parquet\n",
    "1. Results/part-00001-2cc36f38-19ef-4d8a-a0d1-5ddb309b3894-c000.snappy.parquet\n",
    "1. Results/part-00002-2cc36f38-19ef-4d8a-a0d1-5ddb309b3894-c000.snappy.parquet\n",
    "1. Results/part-00003-2cc36f38-19ef-4d8a-a0d1-5ddb309b3894-c000.snappy.parquet\n",
    "1. Results/part-00004-2cc36f38-19ef-4d8a-a0d1-5ddb309b3894-c000.snappy.parquet\n",
    "1. Results/part-00005-2cc36f38-19ef-4d8a-a0d1-5ddb309b3894-c000.snappy.parquet\n",
    "1. Results/part-00006-2cc36f38-19ef-4d8a-a0d1-5ddb309b3894-c000.snappy.parquet\n",
    "1. Results/part-00007-2cc36f38-19ef-4d8a-a0d1-5ddb309b3894-c000.snappy.parquet\n",
    "1. Results/part-00008-2cc36f38-19ef-4d8a-a0d1-5ddb309b3894-c000.snappy.parquet\n",
    "1. Results/part-00009-2cc36f38-19ef-4d8a-a0d1-5ddb309b3894-c000.snappy.parquet\n",
    "1. Results/part-00010-2cc36f38-19ef-4d8a-a0d1-5ddb309b3894-c000.snappy.parquet\n",
    "1. Results/part-00011-2cc36f38-19ef-4d8a-a0d1-5ddb309b3894-c000.snappy.parquet\n",
    "1. Results/part-00012-2cc36f38-19ef-4d8a-a0d1-5ddb309b3894-c000.snappy.parquet\n",
    "1. Results/part-00013-2cc36f38-19ef-4d8a-a0d1-5ddb309b3894-c000.snappy.parquet\n",
    "1. Results/part-00014-2cc36f38-19ef-4d8a-a0d1-5ddb309b3894-c000.snappy.parquet\n",
    "1. Results/part-00015-2cc36f38-19ef-4d8a-a0d1-5ddb309b3894-c000.snappy.parquet\n",
    "1. Results/part-00016-2cc36f38-19ef-4d8a-a0d1-5ddb309b3894-c000.snappy.parquet\n",
    "1. Results/part-00017-2cc36f38-19ef-4d8a-a0d1-5ddb309b3894-c000.snappy.parquet\n",
    "1. Results/part-00018-2cc36f38-19ef-4d8a-a0d1-5ddb309b3894-c000.snappy.parquet\n",
    "1. Results/part-00019-2cc36f38-19ef-4d8a-a0d1-5ddb309b3894-c000.snappy.parquet\n",
    "1. Results/part-00020-2cc36f38-19ef-4d8a-a0d1-5ddb309b3894-c000.snappy.parquet\n",
    "1. Results/part-00021-2cc36f38-19ef-4d8a-a0d1-5ddb309b3894-c000.snappy.parquet\n",
    "1. Results/part-00022-2cc36f38-19ef-4d8a-a0d1-5ddb309b3894-c000.snappy.parquet\n",
    "1. Results/part-00023-2cc36f38-19ef-4d8a-a0d1-5ddb309b3894-c000.snappy.parquet\n",
    "1. Test/\n",
    "1. bootstrap-emr.sh\n",
    "1. jupyter-s3-conf.json\n",
    "1. jupyter/jovyan/.s3keep\n",
    "1. jupyter/jovyan/P8_01_Notebook.ipynb\n",
    "1. jupyter/jovyan/_metadata\n",
    "1. jupyter/jovyan/e-5OTY4VKPDT21945FF6DN15E35/.aws-editors-workspace-metadata/\n",
    "1. jupyter/jovyan/e-5OTY4VKPDT21945FF6DN15E35/.aws-editors-workspace-metadata/file-perm.sqlite\n",
    "1. jupyter/jovyan/e-5OTY4VKPDT21945FF6DN15E35/.aws-editors-workspace-metadata/nbconvert/\n",
    "1. jupyter/jovyan/e-5OTY4VKPDT21945FF6DN15E35/.aws-editors-workspace-metadata/nbconvert/templates/\n",
    "1. jupyter/jovyan/e-5OTY4VKPDT21945FF6DN15E35/.aws-editors-workspace-metadata/nbconvert/templates/html/\n",
    "1. jupyter/jovyan/e-5OTY4VKPDT21945FF6DN15E35/.aws-editors-workspace-metadata/nbconvert/templates/latex/\n",
    "1. jupyter/jovyan/e-5OTY4VKPDT21945FF6DN15E35/.aws-editors-workspace-metadata/nbsignatures.db\n",
    "1. jupyter/jovyan/e-5OTY4VKPDT21945FF6DN15E35/.aws-editors-workspace-metadata/notebook_secret\n",
    "1. jupyter/jovyan/e-5OTY4VKPDT21945FF6DN15E35/.ipynb_checkpoints/\n",
    "1. jupyter/jovyan/e-5OTY4VKPDT21945FF6DN15E35/.ipynb_checkpoints/Untitled-checkpoint.ipynb\n",
    "1. jupyter/jovyan/e-5OTY4VKPDT21945FF6DN15E35/.ipynb_checkpoints/Untitled1-checkpoint.ipynb\n",
    "1. jupyter/jovyan/e-5OTY4VKPDT21945FF6DN15E35/.ipynb_checkpoints/test3-checkpoint.ipynb\n",
    "1. jupyter/jovyan/e-5OTY4VKPDT21945FF6DN15E35/Untitled.ipynb\n",
    "1. jupyter/jovyan/e-5OTY4VKPDT21945FF6DN15E35/Untitled1.ipynb\n",
    "1. jupyter/jovyan/e-5OTY4VKPDT21945FF6DN15E35/test3.ipynb"
   ]
  },
  {
   "cell_type": "markdown",
   "id": "4eba46f9",
   "metadata": {},
   "source": [
    "# 5. Conclusion\n",
    "\n",
    "Nous avons réalisé ce projet **en deux temps** en tenant <br />\n",
    "compte des contraintes qui nous ont été imposées.\n",
    "\n",
    "Nous avons **dans un premier temps développé notre solution en local** <br />\n",
    "sur une machine virtuelle dans un environnement Linux Ubuntu.\n",
    "\n",
    "La <u>première phase</u> a consisté à **installer l'environnement de travail Spark**. <br />\n",
    "**Spark** a un paramètre qui nous permet de travaillé en local et nous permet <br />\n",
    "ainsi de **simuler du calcul partagé** en considérant <br />\n",
    "**chaque cœur d'un processeur comme un worker indépendant**.<br />\n",
    "Nous avons travaillé sur un plus **petit jeu de donnée**, l'idée était <br />\n",
    "simplement de **valider le bon fonctionnement de la solution**.\n",
    "\n",
    "Nous avons fait le choix de réaliser du **transfert learning** <br />\n",
    "à partir du model **MobileNetV2**.<br />\n",
    "Ce modèle a été retenu pour sa **légèreté** et sa **rapidité d'exécution** <br />\n",
    "ainsi que pour la **faible dimension de son vecteur en sortie**.\n",
    "\n",
    "Les résultats ont été enregistrés sur disque en plusieurs <br />\n",
    "partitions au format \"**parquet**\".\n",
    "\n",
    "<u>**La solution a parfaitement fonctionné en mode local**</u>.\n",
    "\n",
    "La <u>deuxième phase</u> a consisté à créer un **réel cluster de calculs**. <br />\n",
    "L'objectif était de pouvoir **anticiper une future augmentation de la charge de travail**.\n",
    "\n",
    "Le meilleur choix retenu a été l'utilisation du prestataire de services **Amazon Web Services** <br />\n",
    "qui nous permet de **louer à la demande de la puissance de calculs**, <br />\n",
    "pour un **coût tout à fait acceptable**.<br />\n",
    "Ce service se nomme **EC2** et se classe parmi les offres **Infrastructure As A Service** (IAAS).\n",
    "\n",
    "Nous sommes allez plus loin en utilisant un service de plus <br />\n",
    "haut niveau (**Plateforme As A Service** PAAS)<br />\n",
    "en utilisant le service **EMR** qui nous permet d'un seul coup <br />\n",
    "d'**instancier plusieurs serveur (un cluster)** sur lesquels <br />\n",
    "nous avons pu demander l'installation et la configuration de plusieurs<br />\n",
    "programmes et librairies nécessaires à notre projet comme **Spark**, <br />\n",
    "**Hadoop**, **JupyterHub** ainsi que la librairie **TensorFlow**.\n",
    "\n",
    "En plus d'être plus **rapide et efficace à mettre en place**, nous avons <br />\n",
    "la **certitude du bon fonctionnement de la solution**, celle-ci ayant été <br />\n",
    "préalablement validé par les ingénieurs d'Amazon.\n",
    "\n",
    "Nous avons également pu installer, sans difficulté, **les packages <br />\n",
    "nécessaires sur l'ensembles des machines du cluster**.\n",
    "\n",
    "Enfin, avec très peu de modification, et plus simplement encore, <br />\n",
    "nous avons pu **exécuter notre notebook comme nous l'avions fait localement**.<br />\n",
    "Nous avons cette fois-ci exécuté le traitement sur **l'ensemble des images de notre dossier \"Test\"**.\n",
    "\n",
    "Nous avons opté pour le service **Amazon S3** pour **stocker les données de notre projet**. <br />\n",
    "S3 offre, pour un faible coût, toutes les conditions dont nous avons besoin pour stocker <br />\n",
    "et exploiter de manière efficace nos données.<br />\n",
    "L'espace alloué est potentiellement **illimité**, mais les coûts seront fonction de l'espace utilisé.\n",
    "\n",
    "Il nous sera **facile de faire face à une monté de la charge de travail** en **redimensionnant** <br />\n",
    "simplement notre cluster de machines (horizontalement et/ou verticalement au besoin), <br />\n",
    "les coûts augmenteront en conséquence mais resteront nettement inférieurs aux coûts engendrés <br />\n",
    "par l'achat de matériels ou par la location de serveurs dédiés."
   ]
  }
 ],
 "metadata": {
  "kernelspec": {
   "display_name": "Python 3 (ipykernel)",
   "language": "python",
   "name": "python3"
  },
  "language_info": {
   "codemirror_mode": {
    "name": "ipython",
    "version": 3
   },
   "file_extension": ".py",
   "mimetype": "text/x-python",
   "name": "python",
   "nbconvert_exporter": "python",
   "pygments_lexer": "ipython3",
   "version": "3.10.13"
  },
  "toc": {
   "base_numbering": 1,
   "nav_menu": {},
   "number_sections": true,
   "sideBar": true,
   "skip_h1_title": false,
   "title_cell": "Table of Contents",
   "title_sidebar": "Contents",
   "toc_cell": false,
   "toc_position": {
    "height": "calc(100% - 180px)",
    "left": "10px",
    "top": "150px",
    "width": "432.4px"
   },
   "toc_section_display": true,
   "toc_window_display": true
  }
 },
 "nbformat": 4,
 "nbformat_minor": 5
}
